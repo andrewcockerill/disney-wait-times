{
 "cells": [
  {
   "cell_type": "markdown",
   "metadata": {},
   "source": [
    "### Regression Models for Soarin' Wait Times"
   ]
  },
  {
   "cell_type": "markdown",
   "metadata": {},
   "source": [
    "#### Overview\n",
    "This notebook documents the regession modeling process to predict <i>Soarin'</i> wait times at a given time of day. This will incorporate other predictors explored in the notebook <tt>soarin_eda.ipynb</tt>. The following constraints will be in place in the modeling process:\n",
    "\n",
    "- Predicted wait times will be rounded to the nearest integer that is divisible by 5. Posted wait times for this attraction are only shown in increments of 5 minutes, so all models here will adhere to this level of precision as well.\n",
    "\n",
    "\n",
    "- Each model will be constructed in such a way that all predictions must be greater than or equal to 0. If an algorithm may be capable of returning negative values, a natural log transform will be applied to the target variable.\n",
    "\n",
    "\n",
    "- Records in which the posted wait time is 0 minutes will be removed from training, validation, and testing. This observation has been shown to be exceedingly rare. This will also allow for easier implementation of log transforms without having to further perturb the data (ex. adding 1 to each value).\n",
    "\n",
    "\n",
    "- Only records that were measured between 7am and 11pm will be considered. From exploratory analysis, measurement counts outside of this window are very rare and may be related to special events.\n",
    "\n",
    "\n",
    "- Model selection will be done on the basis of mean absolute error, though we will still investigate other metrics such as R<sup>2</sup>. Mean absolute error will probably be more interpretable for a user, and thus may be more useful for selection."
   ]
  },
  {
   "cell_type": "markdown",
   "metadata": {},
   "source": [
    "#### Packages and Data Load"
   ]
  },
  {
   "cell_type": "code",
   "execution_count": 2,
   "metadata": {},
   "outputs": [],
   "source": [
    "# Packages\n",
    "import numpy as np\n",
    "import pandas as pd\n",
    "from sklearn.preprocessing import FunctionTransformer, KBinsDiscretizer, MinMaxScaler, OneHotEncoder\n",
    "from sklearn.impute import SimpleImputer\n",
    "from sklearn.pipeline import Pipeline\n",
    "from sklearn.base import BaseEstimator, TransformerMixin, RegressorMixin\n",
    "from sklearn.model_selection import PredefinedSplit, GridSearchCV\n",
    "from sklearn.compose import TransformedTargetRegressor, ColumnTransformer\n",
    "from sklearn.linear_model import Lasso\n",
    "from sklearn.ensemble import RandomForestRegressor\n",
    "from xgboost import XGBRegressor\n",
    "import sqlite3\n",
    "import plotly.express as px"
   ]
  },
  {
   "cell_type": "code",
   "execution_count": 3,
   "metadata": {},
   "outputs": [],
   "source": [
    "# Pull Soarnin' data\n",
    "# This query differs from the exploratory analysis in that:\n",
    "# Wait times are dropped if they equal 0\n",
    "# Only observations between 7am-11pm are considered\n",
    "# Does not pull the yyyy-mm-dd date string as it is unnecessary\n",
    "# Adds a column for a continuous measure of time (ex 8.5 is 8:30 am, 13.33 is 1:20pm)\n",
    "\n",
    "with open('../src/soarin_query_model.sql', 'r') as sqlfile:\n",
    "    soarin_query = sqlfile.read()\n",
    "\n",
    "with sqlite3.connect('../data/project_data.db') as conn:\n",
    "    soarin_df = pd.read_sql(soarin_query, con=conn)"
   ]
  },
  {
   "cell_type": "code",
   "execution_count": 4,
   "metadata": {},
   "outputs": [
    {
     "name": "stdout",
     "output_type": "stream",
     "text": [
      "0 year_of_calendar\n",
      "1 month_of_year\n",
      "2 day_of_month\n",
      "3 day_of_week\n",
      "4 hour_of_day\n",
      "5 minute_of_day\n",
      "6 time_cont\n",
      "7 tmax\n",
      "8 days_tofrom_holiday\n",
      "9 unemp_local_change\n",
      "10 unemp_natl_change\n",
      "11 cpi_natl_change\n",
      "12 avg_wait_time_prev\n",
      "13 wait_time\n"
     ]
    }
   ],
   "source": [
    "# View the column names and indices for future reference\n",
    "for idx, value in enumerate(soarin_df.columns):\n",
    "    print(idx, value)"
   ]
  },
  {
   "cell_type": "markdown",
   "metadata": {},
   "source": [
    "#### Train/Dev/Test Splitting\n",
    "Separate train, validation, and test designations will be created based on year:\n",
    "\n",
    "- Training : 2015-2017\n",
    "\n",
    "- Validation : 2018\n",
    "\n",
    "- Test : 2019\n",
    "\n",
    "The train and validation sets will be merged into a single DataFrame which we will concatenate. Using a PredefinedSplit, we will perform any hyperparameter tuning using the validation portion."
   ]
  },
  {
   "cell_type": "code",
   "execution_count": 8,
   "metadata": {},
   "outputs": [],
   "source": [
    "# Year cutoffs\n",
    "TRAIN_YEARS = [2015, 2016, 2017]\n",
    "VALIDATION_YEARS = [2018]\n",
    "TEST_YEARS = [2019]"
   ]
  },
  {
   "cell_type": "code",
   "execution_count": 9,
   "metadata": {},
   "outputs": [],
   "source": [
    "def make_data_arrays(df, years):\n",
    "    context = df[df.year_of_calendar.isin(years)].reset_index(drop=True)\n",
    "    X = context.drop(['wait_time'], axis=1)\n",
    "    y = context.wait_time.values\n",
    "    return X,y"
   ]
  },
  {
   "cell_type": "code",
   "execution_count": 10,
   "metadata": {},
   "outputs": [],
   "source": [
    "# Make datasets\n",
    "X_train_valid, y_train_valid = make_data_arrays(soarin_df, TRAIN_YEARS+VALIDATION_YEARS)\n",
    "X_test, y_test = make_data_arrays(soarin_df, TEST_YEARS)"
   ]
  },
  {
   "cell_type": "code",
   "execution_count": 11,
   "metadata": {},
   "outputs": [],
   "source": [
    "# Predefined splits (-1 if training, 0 if validation)\n",
    "train_valid_folds = np.isin(X_train_valid.year_of_calendar, TRAIN_YEARS)\n",
    "split_object = PredefinedSplit(test_fold = train_valid_folds*-1)"
   ]
  },
  {
   "cell_type": "markdown",
   "metadata": {},
   "source": [
    "#### Simple Baseline Model\n",
    "The baseline model will use a very simplistic rule in which a prediction for any given time will just use the value of <tt>avg_wait_time_prev</tt>, the average wait time over the same hour measured the previous week. A simple pipeline consisting of selecting this column and performing a mean imputation step is used so that a prediction can be made.\n",
    "\n",
    "There are no hyperparameters to tune in this case, but here we examine performance on the created validation set for further comparisons. In this case, we find a mean absolute error of just over 16 minutes."
   ]
  },
  {
   "cell_type": "code",
   "execution_count": 44,
   "metadata": {},
   "outputs": [],
   "source": [
    "# Helper functions and classes\n",
    "def to_nearest_five(y):\n",
    "    # Round values to the nearest integer divisible by 5\n",
    "    return np.round(y/5, 0)*5\n",
    "\n",
    "def exp_to_nearest_five(y):\n",
    "        return np.round(np.exp(y)/5, 0)*5\n",
    "\n",
    "class BaselineModel(BaseEstimator, RegressorMixin):\n",
    "    # Very simple estimator that just returns the values of a pre-existing array\n",
    "    def __init__(self, dummy_param=1):\n",
    "        self.fit_performed = False\n",
    "        self.dummy_param = dummy_param\n",
    "    \n",
    "    def fit(self, X, y):\n",
    "        self.fit_performed = True\n",
    "    \n",
    "    def predict(self, X):\n",
    "        return X.reshape(-1,)"
   ]
  },
  {
   "cell_type": "code",
   "execution_count": 15,
   "metadata": {},
   "outputs": [],
   "source": [
    "# Baseline model \n",
    "\n",
    "def build_baseline_model():   \n",
    "    \n",
    "    # Pipeline just returns the values of the avg_wait_time_prev column\n",
    "    pipe = Pipeline([\n",
    "        ('select_prev', ColumnTransformer([\n",
    "            ('prev_wait', 'passthrough', ['avg_wait_time_prev'])\n",
    "        ], remainder='drop')),\n",
    "\n",
    "        ('imputer', SimpleImputer(strategy='mean')),\n",
    "\n",
    "        ('baseline_model', TransformedTargetRegressor(regressor=BaselineModel(), inverse_func=to_nearest_five))\n",
    "    ])\n",
    "    \n",
    "    # Not a 'true' grid search, just training and exploring validation error\n",
    "    grid = GridSearchCV(\n",
    "        estimator = pipe,\n",
    "        param_grid = {'baseline_model__regressor__dummy_param':[1]},\n",
    "        cv = split_object,\n",
    "        scoring = ['neg_mean_absolute_error', 'r2'],\n",
    "        refit = 'neg_mean_absolute_error'\n",
    "    )\n",
    "    \n",
    "    return grid"
   ]
  },
  {
   "cell_type": "code",
   "execution_count": 16,
   "metadata": {},
   "outputs": [],
   "source": [
    "baseline_grid = build_baseline_model()"
   ]
  },
  {
   "cell_type": "code",
   "execution_count": 17,
   "metadata": {},
   "outputs": [
    {
     "data": {
      "text/plain": [
       "GridSearchCV(cv=PredefinedSplit(test_fold=array([-1, -1, ...,  0,  0])),\n",
       "             estimator=Pipeline(steps=[('select_prev',\n",
       "                                        ColumnTransformer(transformers=[('prev_wait',\n",
       "                                                                         'passthrough',\n",
       "                                                                         ['avg_wait_time_prev'])])),\n",
       "                                       ('imputer', SimpleImputer()),\n",
       "                                       ('baseline_model',\n",
       "                                        TransformedTargetRegressor(inverse_func=<function to_nearest_five at 0x7f41db8c5e50>,\n",
       "                                                                   regressor=BaselineModel()))]),\n",
       "             param_grid={'baseline_model__regressor__dummy_param': [1]},\n",
       "             refit='neg_mean_absolute_error',\n",
       "             scoring=['neg_mean_absolute_error', 'r2'])"
      ]
     },
     "execution_count": 17,
     "metadata": {},
     "output_type": "execute_result"
    }
   ],
   "source": [
    "baseline_grid.fit(X_train_valid, y_train_valid)"
   ]
  },
  {
   "cell_type": "code",
   "execution_count": 19,
   "metadata": {},
   "outputs": [
    {
     "data": {
      "text/plain": [
       "16.0593"
      ]
     },
     "execution_count": 19,
     "metadata": {},
     "output_type": "execute_result"
    }
   ],
   "source": [
    "# MAE\n",
    "round(baseline_grid.best_score_*-1,4)"
   ]
  },
  {
   "cell_type": "code",
   "execution_count": 35,
   "metadata": {},
   "outputs": [
    {
     "data": {
      "text/plain": [
       "-0.0041"
      ]
     },
     "execution_count": 35,
     "metadata": {},
     "output_type": "execute_result"
    }
   ],
   "source": [
    "# R-squared\n",
    "round(baseline_grid.cv_results_['mean_test_r2'].max(),4)"
   ]
  },
  {
   "cell_type": "markdown",
   "metadata": {},
   "source": [
    "#### Linear Regression with L1 Regularization\n",
    "\n",
    "A penalized linear regression is attempted first. Since the number of features is relatively small, we can spend some time attempting to engineer different transforms or use binning methods to try to capture non-linear effects in the data. Imputation and min-max scaling will also be applied to features where needed.\n",
    "\n",
    "\n",
    "The planned input features and related transforms will include:\n",
    "\n",
    "- <b>month_of_year</b>: One hot encoded\n",
    "\n",
    "- <b>day_of_week</b>: One hot encoded\n",
    "\n",
    "- <b>days_tofrom_holiday</b>: One hot encoded - if null, will encode as the 'category' 6\n",
    "\n",
    "- <b>tmax (real)</b>: Identity\n",
    "\n",
    "- <b>unemp_local_change</b>: Identity\n",
    "\n",
    "- <b>unemp_natl_change</b>: Identity\n",
    "\n",
    "- <b>cpi_natl_change</b>: Identity\n",
    "\n",
    "- <b>time_cont</b>: Binning\n",
    "\n",
    "- <b>avg_wait_time_prev</b>: Natural log\n",
    "\n",
    "\n",
    "The target variable of <tt>wait_time</tt> will also be log transformed to ensure the model cannot output negative values. A grid search yields a candidate model with MAE of just under 14 minutes with an R^2 of 0.4."
   ]
  },
  {
   "cell_type": "code",
   "execution_count": 45,
   "metadata": {},
   "outputs": [],
   "source": [
    "def build_linear_model(hyperparams):\n",
    "    # Construct a linear regression with L1 regularization that follows a pipeline\n",
    "    # of various transforms and encodings\n",
    "    \n",
    "    # One hot handling for month, day of week\n",
    "    date_pipeline = Pipeline([\n",
    "        ('impute', SimpleImputer(strategy='median')),\n",
    "        ('one_hot', OneHotEncoder(drop=None))\n",
    "    ])\n",
    "\n",
    "    # One hot handling for days to/from holiday\n",
    "    holiday_pipeline = Pipeline([\n",
    "        ('impute', SimpleImputer(strategy='constant', fill_value=6)),\n",
    "        ('one_hot', OneHotEncoder(drop=None))\n",
    "    ])\n",
    "\n",
    "    # Handling for identity features\n",
    "    identity_pipeline = Pipeline([\n",
    "        ('impute', SimpleImputer(strategy='median')),\n",
    "        ('minmax', MinMaxScaler())\n",
    "    ])\n",
    "\n",
    "    # Binning\n",
    "    binning_pipeline = Pipeline([\n",
    "        ('impute', SimpleImputer(strategy='median')),\n",
    "        ('binning', KBinsDiscretizer(strategy='uniform'))\n",
    "    ])\n",
    "\n",
    "    # Log transform\n",
    "    logarithm_pipeline = Pipeline([\n",
    "        ('impute', SimpleImputer(strategy='median')),\n",
    "        ('log_xform', FunctionTransformer(func=np.log)),\n",
    "        ('minmax', MinMaxScaler())\n",
    "    ])\n",
    "\n",
    "    # Combine into column transforms\n",
    "    column_preprocessor = ColumnTransformer([\n",
    "        ('date_pipe', date_pipeline, ['month_of_year', 'day_of_week']),\n",
    "        ('holiday_pipe', holiday_pipeline, ['days_tofrom_holiday']),\n",
    "        ('identity_pipe', identity_pipeline, ['tmax', 'unemp_local_change', 'unemp_natl_change','cpi_natl_change']),\n",
    "        ('binning_pipe', binning_pipeline, ['time_cont']),\n",
    "        ('logarithim_pipe', logarithm_pipeline, ['avg_wait_time_prev'])\n",
    "    ])\n",
    "\n",
    "    # Regression with transformed target\n",
    "    linear_model = TransformedTargetRegressor(\n",
    "        regressor = Lasso(),\n",
    "        func = np.log,\n",
    "        inverse_func = exp_to_nearest_five,\n",
    "        check_inverse = False # The rounding portion means the inverse will not be the same\n",
    "    )\n",
    "\n",
    "    # Model pipeline\n",
    "    pipe = Pipeline([\n",
    "        ('column_preprocessing', column_preprocessor),\n",
    "        ('regression', linear_model)\n",
    "    ])\n",
    "    \n",
    "    # Grid Search\n",
    "    grid = GridSearchCV(\n",
    "        estimator = pipe,\n",
    "        param_grid = hyperparams,\n",
    "        cv = split_object,\n",
    "        scoring = ['neg_mean_absolute_error','r2'],\n",
    "        refit = 'neg_mean_absolute_error'\n",
    "    )\n",
    "    \n",
    "    return grid"
   ]
  },
  {
   "cell_type": "code",
   "execution_count": 46,
   "metadata": {},
   "outputs": [],
   "source": [
    "# Hyperparameters\n",
    "hyperparams = {\n",
    "    'column_preprocessing__binning_pipe__binning__n_bins': [5, 10, 15, 20, 25, 30],\n",
    "    'regression__regressor__alpha': [0.001, 0.01, 0.1, 1, 10]\n",
    "}\n",
    "\n",
    "linear_reg_grid = build_linear_model(hyperparams=hyperparams)"
   ]
  },
  {
   "cell_type": "code",
   "execution_count": 47,
   "metadata": {},
   "outputs": [
    {
     "data": {
      "text/plain": [
       "GridSearchCV(cv=PredefinedSplit(test_fold=array([-1, -1, ...,  0,  0])),\n",
       "             estimator=Pipeline(steps=[('column_preprocessing',\n",
       "                                        ColumnTransformer(transformers=[('date_pipe',\n",
       "                                                                         Pipeline(steps=[('impute',\n",
       "                                                                                          SimpleImputer(strategy='median')),\n",
       "                                                                                         ('one_hot',\n",
       "                                                                                          OneHotEncoder())]),\n",
       "                                                                         ['month_of_year',\n",
       "                                                                          'day_of_week']),\n",
       "                                                                        ('holiday_pipe',\n",
       "                                                                         Pipeline(steps=[('impute',\n",
       "                                                                                          SimpleImputer(fill_value...\n",
       "                                        TransformedTargetRegressor(check_inverse=False,\n",
       "                                                                   func=<ufunc 'log'>,\n",
       "                                                                   inverse_func=<function exp_to_nearest_five at 0x7f41bc382ca0>,\n",
       "                                                                   regressor=Lasso()))]),\n",
       "             param_grid={'column_preprocessing__binning_pipe__binning__n_bins': [5,\n",
       "                                                                                 10,\n",
       "                                                                                 15,\n",
       "                                                                                 20,\n",
       "                                                                                 25,\n",
       "                                                                                 30],\n",
       "                         'regression__regressor__alpha': [0.001, 0.01, 0.1, 1,\n",
       "                                                          10]},\n",
       "             refit='neg_mean_absolute_error',\n",
       "             scoring=['neg_mean_absolute_error', 'r2'])"
      ]
     },
     "execution_count": 47,
     "metadata": {},
     "output_type": "execute_result"
    }
   ],
   "source": [
    "linear_reg_grid.fit(X_train_valid, y_train_valid)"
   ]
  },
  {
   "cell_type": "code",
   "execution_count": 50,
   "metadata": {},
   "outputs": [
    {
     "data": {
      "text/plain": [
       "13.7616"
      ]
     },
     "execution_count": 50,
     "metadata": {},
     "output_type": "execute_result"
    }
   ],
   "source": [
    "# Best MAE\n",
    "round(linear_reg_grid.best_score_*-1,4)"
   ]
  },
  {
   "cell_type": "code",
   "execution_count": 51,
   "metadata": {},
   "outputs": [
    {
     "data": {
      "text/plain": [
       "0.4088"
      ]
     },
     "execution_count": 51,
     "metadata": {},
     "output_type": "execute_result"
    }
   ],
   "source": [
    "# R-squared for params returning best MAE\n",
    "best_param_iter = linear_reg_grid.cv_results_['mean_test_neg_mean_absolute_error'].argmax()\n",
    "round(linear_reg_grid.cv_results_['mean_test_r2'][best_param_iter],4)"
   ]
  },
  {
   "cell_type": "code",
   "execution_count": 52,
   "metadata": {},
   "outputs": [
    {
     "data": {
      "text/plain": [
       "{'column_preprocessing__binning_pipe__binning__n_bins': 30,\n",
       " 'regression__regressor__alpha': 0.001}"
      ]
     },
     "execution_count": 52,
     "metadata": {},
     "output_type": "execute_result"
    }
   ],
   "source": [
    "# Params for model with best MAE\n",
    "linear_reg_grid.best_params_"
   ]
  },
  {
   "cell_type": "markdown",
   "metadata": {},
   "source": [
    "#### XGBoost Regression"
   ]
  },
  {
   "cell_type": "code",
   "execution_count": 59,
   "metadata": {},
   "outputs": [],
   "source": [
    "# Pipeline similar to the regression, with adjustments to which variables undergo\n",
    "# certain transforms, removing min-max scaling, binning\n",
    "\n",
    "def build_xgboost_model(hyperparams):\n",
    "\n",
    "    # One hot handling for month, day of week\n",
    "    date_pipeline = Pipeline([\n",
    "        ('impute', SimpleImputer(strategy='median')),\n",
    "        ('one_hot', OneHotEncoder(drop=None))\n",
    "    ])\n",
    "\n",
    "    # One hot handling for days to/from holiday\n",
    "    holiday_pipeline = Pipeline([\n",
    "        ('impute', SimpleImputer(strategy='constant', fill_value=6)),\n",
    "        ('one_hot', OneHotEncoder(drop=None))\n",
    "    ])\n",
    "\n",
    "    # Handling for identity features\n",
    "    identity_pipeline = Pipeline([\n",
    "        ('impute', SimpleImputer(strategy='median'))\n",
    "    ])\n",
    "\n",
    "    # Combine into column transforms\n",
    "    column_preprocessor = ColumnTransformer([\n",
    "        ('date_pipe', date_pipeline, ['month_of_year', 'day_of_week']),\n",
    "        ('holiday_pipe', holiday_pipeline, ['days_tofrom_holiday']),\n",
    "        ('identity_pipe', identity_pipeline, ['day_of_month','tmax', 'unemp_local_change', 'unemp_natl_change',\n",
    "                                              'cpi_natl_change','time_cont','avg_wait_time_prev'])\n",
    "    ])\n",
    "\n",
    "    # Regression with transformed target\n",
    "    gb_model = TransformedTargetRegressor(\n",
    "        regressor = XGBRegressor(n_jobs=-1),\n",
    "        func = np.log,\n",
    "        inverse_func = exp_to_nearest_five,\n",
    "        check_inverse = False # The rounding portion means the inverse will not be the same\n",
    "    )\n",
    "    \n",
    "    # Model pipeline\n",
    "    pipe = Pipeline([\n",
    "        ('column_preprocessing', column_preprocessor),\n",
    "        ('regression', gb_model)\n",
    "    ])\n",
    "    \n",
    "    # Grid Search\n",
    "    gb_reg_grid = GridSearchCV(\n",
    "        estimator = pipe,\n",
    "        param_grid = hyperparams,\n",
    "        cv = split_object,\n",
    "        scoring = ['neg_mean_absolute_error','r2'],\n",
    "        refit = 'neg_mean_absolute_error',\n",
    "        verbose=True,\n",
    "        return_train_score=True\n",
    "    )\n",
    "    \n",
    "    return gb_reg_grid"
   ]
  },
  {
   "cell_type": "code",
   "execution_count": 60,
   "metadata": {},
   "outputs": [],
   "source": [
    "# Hyperparameters\n",
    "hyperparams = {\n",
    "    'regression__regressor__n_estimators': [4,5,10,20],\n",
    "    'regression__regressor__max_depth': [5,6,7,8],\n",
    "    'regression__regressor__eta':[0.1,0.3]\n",
    "}\n",
    "\n",
    "gb_reg_grid = build_xgboost_model(hyperparams=hyperparams)"
   ]
  },
  {
   "cell_type": "code",
   "execution_count": 62,
   "metadata": {},
   "outputs": [
    {
     "name": "stdout",
     "output_type": "stream",
     "text": [
      "Fitting 1 folds for each of 32 candidates, totalling 32 fits\n"
     ]
    },
    {
     "name": "stderr",
     "output_type": "stream",
     "text": [
      "[Parallel(n_jobs=1)]: Using backend SequentialBackend with 1 concurrent workers.\n",
      "[Parallel(n_jobs=1)]: Done  32 out of  32 | elapsed:   52.7s finished\n"
     ]
    },
    {
     "data": {
      "text/plain": [
       "GridSearchCV(cv=PredefinedSplit(test_fold=array([-1, -1, ...,  0,  0])),\n",
       "             estimator=Pipeline(steps=[('column_preprocessing',\n",
       "                                        ColumnTransformer(transformers=[('date_pipe',\n",
       "                                                                         Pipeline(steps=[('impute',\n",
       "                                                                                          SimpleImputer(strategy='median')),\n",
       "                                                                                         ('one_hot',\n",
       "                                                                                          OneHotEncoder())]),\n",
       "                                                                         ['month_of_year',\n",
       "                                                                          'day_of_week']),\n",
       "                                                                        ('holiday_pipe',\n",
       "                                                                         Pipeline(steps=[('impute',\n",
       "                                                                                          SimpleImputer(fill_value...\n",
       "                                                                                          scale_pos_weight=None,\n",
       "                                                                                          subsample=None,\n",
       "                                                                                          tree_method=None,\n",
       "                                                                                          validate_parameters=None,\n",
       "                                                                                          verbosity=None)))]),\n",
       "             param_grid={'regression__regressor__eta': [0.1, 0.3],\n",
       "                         'regression__regressor__max_depth': [5, 6, 7, 8],\n",
       "                         'regression__regressor__n_estimators': [4, 5, 10, 20]},\n",
       "             refit='neg_mean_absolute_error', return_train_score=True,\n",
       "             scoring=['neg_mean_absolute_error', 'r2'], verbose=True)"
      ]
     },
     "execution_count": 62,
     "metadata": {},
     "output_type": "execute_result"
    }
   ],
   "source": [
    "gb_reg_grid.fit(X_train_valid, y_train_valid)"
   ]
  },
  {
   "cell_type": "code",
   "execution_count": 64,
   "metadata": {
    "scrolled": false
   },
   "outputs": [
    {
     "data": {
      "text/plain": [
       "12.461"
      ]
     },
     "execution_count": 64,
     "metadata": {},
     "output_type": "execute_result"
    }
   ],
   "source": [
    "# Best MAE\n",
    "round(gb_reg_grid.best_score_*-1,4)"
   ]
  },
  {
   "cell_type": "code",
   "execution_count": 65,
   "metadata": {
    "scrolled": false
   },
   "outputs": [
    {
     "data": {
      "text/plain": [
       "0.4513"
      ]
     },
     "execution_count": 65,
     "metadata": {},
     "output_type": "execute_result"
    }
   ],
   "source": [
    "# R-squared for params returning best MAE\n",
    "best_param_iter = gb_reg_grid.cv_results_['mean_test_neg_mean_absolute_error'].argmax()\n",
    "round(gb_reg_grid.cv_results_['mean_test_r2'][best_param_iter],4)"
   ]
  },
  {
   "cell_type": "code",
   "execution_count": 66,
   "metadata": {},
   "outputs": [
    {
     "data": {
      "text/plain": [
       "{'regression__regressor__eta': 0.3,\n",
       " 'regression__regressor__max_depth': 7,\n",
       " 'regression__regressor__n_estimators': 10}"
      ]
     },
     "execution_count": 66,
     "metadata": {},
     "output_type": "execute_result"
    }
   ],
   "source": [
    "gb_reg_grid.best_params_"
   ]
  },
  {
   "cell_type": "markdown",
   "metadata": {},
   "source": [
    "#### Visualization\n",
    "\n",
    "We can visualize model predictions for various dates to see how these might appear graphically in the validation set."
   ]
  },
  {
   "cell_type": "code",
   "execution_count": 67,
   "metadata": {},
   "outputs": [],
   "source": [
    "def plot_actual_vs_pred(estimator, y, m, d):\n",
    "    if y != 2019:\n",
    "    \n",
    "        context = soarin_df[\n",
    "            (soarin_df.year_of_calendar==y) & \n",
    "            (soarin_df.month_of_year==m) &\n",
    "            (soarin_df.day_of_month==d)]\n",
    "\n",
    "        preds = estimator.predict(context.drop('wait_time',axis=1).sort_values('time_cont'))\n",
    "\n",
    "        actuals = context.sort_values('time_cont').wait_time\n",
    "\n",
    "        times = context.sort_values('time_cont').time_cont\n",
    "\n",
    "        plot_df = pd.DataFrame({'pred':preds, 'actual':actuals, 'time':times}).reset_index(drop=True)\n",
    "        plot_df = pd.melt(frame=plot_df, id_vars='time', value_vars=['pred','actual'], \n",
    "                         var_name='group',value_name='wait_time')\n",
    "\n",
    "        date_title = 'Predicted vs. Actual {0}-{1}-{2}'.format(m, d, y)\n",
    "\n",
    "        return px.line(data_frame=plot_df, x='time', y='wait_time', color='group', title=date_title)"
   ]
  },
  {
   "cell_type": "code",
   "execution_count": 76,
   "metadata": {},
   "outputs": [
    {
     "data": {
      "image/svg+xml": [
       "<svg class=\"main-svg\" xmlns=\"http://www.w3.org/2000/svg\" xmlns:xlink=\"http://www.w3.org/1999/xlink\" width=\"700\" height=\"450\" style=\"\" viewBox=\"0 0 700 450\"><rect x=\"0\" y=\"0\" width=\"700\" height=\"450\" style=\"fill: rgb(255, 255, 255); fill-opacity: 1;\"/><defs id=\"defs-37a6ee\"><g class=\"clips\"><clipPath id=\"clip37a6eexyplot\" class=\"plotclip\"><rect width=\"519\" height=\"270\"/></clipPath><clipPath class=\"axesclip\" id=\"clip37a6eex\"><rect x=\"80\" y=\"0\" width=\"519\" height=\"450\"/></clipPath><clipPath class=\"axesclip\" id=\"clip37a6eey\"><rect x=\"0\" y=\"100\" width=\"700\" height=\"270\"/></clipPath><clipPath class=\"axesclip\" id=\"clip37a6eexy\"><rect x=\"80\" y=\"100\" width=\"519\" height=\"270\"/></clipPath></g><g class=\"gradients\"/></defs><g class=\"bglayer\"><rect class=\"bg\" x=\"80\" y=\"100\" width=\"519\" height=\"270\" style=\"fill: rgb(229, 236, 246); fill-opacity: 1; stroke-width: 0;\"/></g><g class=\"layer-below\"><g class=\"imagelayer\"/><g class=\"shapelayer\"/></g><g class=\"cartesianlayer\"><g class=\"subplot xy\"><g class=\"layer-subplot\"><g class=\"shapelayer\"/><g class=\"imagelayer\"/></g><g class=\"gridlayer\"><g class=\"x\"><path class=\"xgrid crisp\" transform=\"translate(116.47999999999999,0)\" d=\"M0,100v270\" style=\"stroke: rgb(255, 255, 255); stroke-opacity: 1; stroke-width: 1px;\"/><path class=\"xgrid crisp\" transform=\"translate(200.64,0)\" d=\"M0,100v270\" style=\"stroke: rgb(255, 255, 255); stroke-opacity: 1; stroke-width: 1px;\"/><path class=\"xgrid crisp\" transform=\"translate(284.8,0)\" d=\"M0,100v270\" style=\"stroke: rgb(255, 255, 255); stroke-opacity: 1; stroke-width: 1px;\"/><path class=\"xgrid crisp\" transform=\"translate(368.96,0)\" d=\"M0,100v270\" style=\"stroke: rgb(255, 255, 255); stroke-opacity: 1; stroke-width: 1px;\"/><path class=\"xgrid crisp\" transform=\"translate(453.11,0)\" d=\"M0,100v270\" style=\"stroke: rgb(255, 255, 255); stroke-opacity: 1; stroke-width: 1px;\"/><path class=\"xgrid crisp\" transform=\"translate(537.27,0)\" d=\"M0,100v270\" style=\"stroke: rgb(255, 255, 255); stroke-opacity: 1; stroke-width: 1px;\"/></g><g class=\"y\"><path class=\"ygrid crisp\" transform=\"translate(0,337.81)\" d=\"M80,0h519\" style=\"stroke: rgb(255, 255, 255); stroke-opacity: 1; stroke-width: 1px;\"/><path class=\"ygrid crisp\" transform=\"translate(0,300.41999999999996)\" d=\"M80,0h519\" style=\"stroke: rgb(255, 255, 255); stroke-opacity: 1; stroke-width: 1px;\"/><path class=\"ygrid crisp\" transform=\"translate(0,263.03999999999996)\" d=\"M80,0h519\" style=\"stroke: rgb(255, 255, 255); stroke-opacity: 1; stroke-width: 1px;\"/><path class=\"ygrid crisp\" transform=\"translate(0,225.65)\" d=\"M80,0h519\" style=\"stroke: rgb(255, 255, 255); stroke-opacity: 1; stroke-width: 1px;\"/><path class=\"ygrid crisp\" transform=\"translate(0,188.26999999999998)\" d=\"M80,0h519\" style=\"stroke: rgb(255, 255, 255); stroke-opacity: 1; stroke-width: 1px;\"/><path class=\"ygrid crisp\" transform=\"translate(0,150.88)\" d=\"M80,0h519\" style=\"stroke: rgb(255, 255, 255); stroke-opacity: 1; stroke-width: 1px;\"/><path class=\"ygrid crisp\" transform=\"translate(0,113.5)\" d=\"M80,0h519\" style=\"stroke: rgb(255, 255, 255); stroke-opacity: 1; stroke-width: 1px;\"/></g></g><g class=\"zerolinelayer\"/><path class=\"xlines-below\"/><path class=\"ylines-below\"/><g class=\"overlines-below\"/><g class=\"xaxislayer-below\"/><g class=\"yaxislayer-below\"/><g class=\"overaxes-below\"/><g class=\"plot\" transform=\"translate(80, 100)\" clip-path=\"url('#clip37a6eexyplot')\"><g class=\"scatterlayer mlayer\"><g class=\"trace scatter trace392fee\" style=\"stroke-miterlimit: 2; opacity: 1;\"><g class=\"fills\"/><g class=\"errorbars\"/><g class=\"lines\"><path class=\"js-line\" d=\"M0,256.5L3.53,219.12L3.53,219.12L4.92,219.12L14.05,219.12L17.55,200.42L25.25,200.42L29.46,181.73L34.38,181.73L37.2,144.35L42.08,125.65L44.18,106.96L162,106.96L163.43,125.65L202.69,125.65L205.51,144.35L286.85,144.35L289.67,163.04L328.93,163.04L331.75,144.35L371.01,144.35L373.83,163.04L455.17,163.04L457.99,200.42L476.92,200.42L482.52,219.12L497.25,219.12L500.06,237.81L504.95,237.81L509.87,256.5L519,256.5\" style=\"vector-effect: non-scaling-stroke; fill: none; stroke: rgb(99, 110, 250); stroke-opacity: 1; stroke-width: 2px; opacity: 1;\"/></g><g class=\"points\"/><g class=\"text\"/></g><g class=\"trace scatter tracee5eff0\" style=\"stroke-miterlimit: 2; opacity: 1;\"><g class=\"fills\"/><g class=\"errorbars\"/><g class=\"lines\"><path class=\"js-line\" d=\"M0,256.5L3.53,237.81L3.53,237.81L4.92,237.81L9.85,219.12L14.05,219.12L17.55,237.81L19.65,237.81L24.57,125.65L25.25,219.12L29.46,237.81L34.38,144.35L37.2,32.19L42.08,106.96L44.18,106.96L47,163.04L51.93,106.96L56.13,106.96L61.73,125.65L66.65,106.96L71.53,50.88L76.46,32.19L89.08,32.19L89.08,32.19L94,13.5L98.21,13.5L103.81,69.58L113.61,106.96L118.54,144.35L121.36,125.65L126.24,125.65L131.16,144.35L136.08,144.35L145.89,144.35L150.81,88.27L155.69,88.27L160.61,106.96L168.32,106.96L173.24,144.35L178.16,144.35L182.37,125.65L197.77,125.65L202.69,106.96L205.51,106.96L210.39,163.04L227.23,163.04L230.04,144.35L234.97,125.65L237.07,125.65L237.07,181.73L239.85,125.65L244.77,125.65L247.59,144.35L252.47,163.04L257.4,163.04L262.32,163.04L266.53,144.35L270.02,106.96L272.12,106.96L277.05,125.65L281.93,125.65L286.85,163.04L289.67,163.04L294.55,181.73L299.47,88.27L308.61,88.27L314.2,106.96L319.13,144.35L324.01,163.04L331.75,163.04L336.63,125.65L341.55,163.04L346.48,163.04L378.71,163.04L378.71,200.42L378.71,163.04L383.63,200.42L388.56,200.42L392.76,219.12L398.36,219.12L403.28,200.42L408.16,200.42L413.09,144.35L445.36,144.35L450.24,163.04L455.17,181.73L457.99,181.73L462.87,181.73L467.79,200.42L476.92,200.42L482.52,181.73L487.44,181.73L492.32,237.81L497.25,237.81L500.06,256.5L519,256.5\" style=\"vector-effect: non-scaling-stroke; fill: none; stroke: rgb(239, 85, 59); stroke-opacity: 1; stroke-width: 2px; opacity: 1;\"/></g><g class=\"points\"/><g class=\"text\"/></g></g></g><g class=\"overplot\"/><path class=\"xlines-above crisp\" d=\"M0,0\" style=\"fill: none;\"/><path class=\"ylines-above crisp\" d=\"M0,0\" style=\"fill: none;\"/><g class=\"overlines-above\"/><g class=\"xaxislayer-above\"><g class=\"xtick\"><text text-anchor=\"middle\" x=\"0\" y=\"383\" transform=\"translate(116.47999999999999,0)\" style=\"font-family: 'Open Sans', verdana, arial, sans-serif; font-size: 12px; fill: rgb(42, 63, 95); fill-opacity: 1; white-space: pre;\">10</text></g><g class=\"xtick\"><text text-anchor=\"middle\" x=\"0\" y=\"383\" transform=\"translate(200.64,0)\" style=\"font-family: 'Open Sans', verdana, arial, sans-serif; font-size: 12px; fill: rgb(42, 63, 95); fill-opacity: 1; white-space: pre;\">12</text></g><g class=\"xtick\"><text text-anchor=\"middle\" x=\"0\" y=\"383\" transform=\"translate(284.8,0)\" style=\"font-family: 'Open Sans', verdana, arial, sans-serif; font-size: 12px; fill: rgb(42, 63, 95); fill-opacity: 1; white-space: pre;\">14</text></g><g class=\"xtick\"><text text-anchor=\"middle\" x=\"0\" y=\"383\" transform=\"translate(368.96,0)\" style=\"font-family: 'Open Sans', verdana, arial, sans-serif; font-size: 12px; fill: rgb(42, 63, 95); fill-opacity: 1; white-space: pre;\">16</text></g><g class=\"xtick\"><text text-anchor=\"middle\" x=\"0\" y=\"383\" transform=\"translate(453.11,0)\" style=\"font-family: 'Open Sans', verdana, arial, sans-serif; font-size: 12px; fill: rgb(42, 63, 95); fill-opacity: 1; white-space: pre;\">18</text></g><g class=\"xtick\"><text text-anchor=\"middle\" x=\"0\" y=\"383\" transform=\"translate(537.27,0)\" style=\"font-family: 'Open Sans', verdana, arial, sans-serif; font-size: 12px; fill: rgb(42, 63, 95); fill-opacity: 1; white-space: pre;\">20</text></g></g><g class=\"yaxislayer-above\"><g class=\"ytick\"><text text-anchor=\"end\" x=\"79\" y=\"4.199999999999999\" transform=\"translate(0,337.81)\" style=\"font-family: 'Open Sans', verdana, arial, sans-serif; font-size: 12px; fill: rgb(42, 63, 95); fill-opacity: 1; white-space: pre;\">20</text></g><g class=\"ytick\"><text text-anchor=\"end\" x=\"79\" y=\"4.199999999999999\" transform=\"translate(0,300.41999999999996)\" style=\"font-family: 'Open Sans', verdana, arial, sans-serif; font-size: 12px; fill: rgb(42, 63, 95); fill-opacity: 1; white-space: pre;\">30</text></g><g class=\"ytick\"><text text-anchor=\"end\" x=\"79\" y=\"4.199999999999999\" transform=\"translate(0,263.03999999999996)\" style=\"font-family: 'Open Sans', verdana, arial, sans-serif; font-size: 12px; fill: rgb(42, 63, 95); fill-opacity: 1; white-space: pre;\">40</text></g><g class=\"ytick\"><text text-anchor=\"end\" x=\"79\" y=\"4.199999999999999\" transform=\"translate(0,225.65)\" style=\"font-family: 'Open Sans', verdana, arial, sans-serif; font-size: 12px; fill: rgb(42, 63, 95); fill-opacity: 1; white-space: pre;\">50</text></g><g class=\"ytick\"><text text-anchor=\"end\" x=\"79\" y=\"4.199999999999999\" transform=\"translate(0,188.26999999999998)\" style=\"font-family: 'Open Sans', verdana, arial, sans-serif; font-size: 12px; fill: rgb(42, 63, 95); fill-opacity: 1; white-space: pre;\">60</text></g><g class=\"ytick\"><text text-anchor=\"end\" x=\"79\" y=\"4.199999999999999\" transform=\"translate(0,150.88)\" style=\"font-family: 'Open Sans', verdana, arial, sans-serif; font-size: 12px; fill: rgb(42, 63, 95); fill-opacity: 1; white-space: pre;\">70</text></g><g class=\"ytick\"><text text-anchor=\"end\" x=\"79\" y=\"4.199999999999999\" transform=\"translate(0,113.5)\" style=\"font-family: 'Open Sans', verdana, arial, sans-serif; font-size: 12px; fill: rgb(42, 63, 95); fill-opacity: 1; white-space: pre;\">80</text></g></g><g class=\"overaxes-above\"/></g></g><g class=\"polarlayer\"/><g class=\"ternarylayer\"/><g class=\"geolayer\"/><g class=\"funnelarealayer\"/><g class=\"pielayer\"/><g class=\"treemaplayer\"/><g class=\"sunburstlayer\"/><g class=\"glimages\"/><defs id=\"topdefs-37a6ee\"><g class=\"clips\"/><clipPath id=\"legend37a6ee\"><rect width=\"79\" height=\"64\" x=\"0\" y=\"0\"/></clipPath></defs><g class=\"layer-above\"><g class=\"imagelayer\"/><g class=\"shapelayer\"/></g><g class=\"infolayer\"><g class=\"legend\" pointer-events=\"all\" transform=\"translate(609.38, 100)\"><rect class=\"bg\" shape-rendering=\"crispEdges\" width=\"79\" height=\"64\" x=\"0\" y=\"0\" style=\"stroke: rgb(68, 68, 68); stroke-opacity: 1; fill: rgb(255, 255, 255); fill-opacity: 1; stroke-width: 0px;\"/><g class=\"scrollbox\" transform=\"translate(0, 0)\" clip-path=\"url('#legend37a6ee')\"><text class=\"legendtitletext user-select-none\" text-anchor=\"start\" x=\"2\" y=\"15.600000000000001\" style=\"font-family: 'Open Sans', verdana, arial, sans-serif; font-size: 12px; fill: rgb(42, 63, 95); fill-opacity: 1; white-space: pre;\">group</text><g class=\"groups\" transform=\"translate(0, 0)\"><g class=\"traces\" transform=\"translate(0, 30.1)\" style=\"opacity: 1;\"><text class=\"legendtext user-select-none\" text-anchor=\"start\" x=\"40\" y=\"4.680000000000001\" style=\"font-family: 'Open Sans', verdana, arial, sans-serif; font-size: 12px; fill: rgb(42, 63, 95); fill-opacity: 1; white-space: pre;\">pred</text><g class=\"layers\" style=\"opacity: 1;\"><g class=\"legendfill\"/><g class=\"legendlines\"><path class=\"js-line\" d=\"M5,0h30\" style=\"fill: none; stroke: rgb(99, 110, 250); stroke-opacity: 1; stroke-width: 2px;\"/></g><g class=\"legendsymbols\"><g class=\"legendpoints\"/></g></g><rect class=\"legendtoggle\" pointer-events=\"all\" x=\"0\" y=\"-9.5\" width=\"73.359375\" height=\"19\" style=\"cursor: pointer; fill: rgb(0, 0, 0); fill-opacity: 0;\"/></g></g><g class=\"groups\" transform=\"translate(0, 0)\"><g class=\"traces\" transform=\"translate(0, 49.1)\" style=\"opacity: 1;\"><text class=\"legendtext user-select-none\" text-anchor=\"start\" x=\"40\" y=\"4.680000000000001\" style=\"font-family: 'Open Sans', verdana, arial, sans-serif; font-size: 12px; fill: rgb(42, 63, 95); fill-opacity: 1; white-space: pre;\">actual</text><g class=\"layers\" style=\"opacity: 1;\"><g class=\"legendfill\"/><g class=\"legendlines\"><path class=\"js-line\" d=\"M5,0h30\" style=\"fill: none; stroke: rgb(239, 85, 59); stroke-opacity: 1; stroke-width: 2px;\"/></g><g class=\"legendsymbols\"><g class=\"legendpoints\"/></g></g><rect class=\"legendtoggle\" pointer-events=\"all\" x=\"0\" y=\"-9.5\" width=\"73.359375\" height=\"19\" style=\"cursor: pointer; fill: rgb(0, 0, 0); fill-opacity: 0;\"/></g></g></g><rect class=\"scrollbar\" rx=\"20\" ry=\"3\" width=\"0\" height=\"0\" x=\"0\" y=\"0\" style=\"fill: rgb(128, 139, 164); fill-opacity: 1;\"/></g><g class=\"g-gtitle\"><text class=\"gtitle\" x=\"35\" y=\"50\" text-anchor=\"start\" dy=\"0em\" style=\"font-family: 'Open Sans', verdana, arial, sans-serif; font-size: 17px; fill: rgb(42, 63, 95); opacity: 1; font-weight: normal; white-space: pre;\">Predicted vs. Actual 12-8-2018</text></g><g class=\"g-xtitle\"><text class=\"xtitle\" x=\"339.5\" y=\"410.8\" text-anchor=\"middle\" style=\"font-family: 'Open Sans', verdana, arial, sans-serif; font-size: 14px; fill: rgb(42, 63, 95); opacity: 1; font-weight: normal; white-space: pre;\">time</text></g><g class=\"g-ytitle\"><text class=\"ytitle\" transform=\"rotate(-90,39.840625,235)\" x=\"39.840625\" y=\"235\" text-anchor=\"middle\" style=\"font-family: 'Open Sans', verdana, arial, sans-serif; font-size: 14px; fill: rgb(42, 63, 95); opacity: 1; font-weight: normal; white-space: pre;\">wait_time</text></g></g></svg>"
      ]
     },
     "metadata": {},
     "output_type": "display_data"
    }
   ],
   "source": [
    "p = plot_actual_vs_pred(gb_reg_grid, y=2018, m=12, d=8)\n",
    "p.show('svg')"
   ]
  },
  {
   "cell_type": "code",
   "execution_count": 77,
   "metadata": {},
   "outputs": [
    {
     "data": {
      "image/svg+xml": [
       "<svg class=\"main-svg\" xmlns=\"http://www.w3.org/2000/svg\" xmlns:xlink=\"http://www.w3.org/1999/xlink\" width=\"700\" height=\"450\" style=\"\" viewBox=\"0 0 700 450\"><rect x=\"0\" y=\"0\" width=\"700\" height=\"450\" style=\"fill: rgb(255, 255, 255); fill-opacity: 1;\"/><defs id=\"defs-e52d4a\"><g class=\"clips\"><clipPath id=\"clipe52d4axyplot\" class=\"plotclip\"><rect width=\"519\" height=\"270\"/></clipPath><clipPath class=\"axesclip\" id=\"clipe52d4ax\"><rect x=\"80\" y=\"0\" width=\"519\" height=\"450\"/></clipPath><clipPath class=\"axesclip\" id=\"clipe52d4ay\"><rect x=\"0\" y=\"100\" width=\"700\" height=\"270\"/></clipPath><clipPath class=\"axesclip\" id=\"clipe52d4axy\"><rect x=\"80\" y=\"100\" width=\"519\" height=\"270\"/></clipPath></g><g class=\"gradients\"/></defs><g class=\"bglayer\"><rect class=\"bg\" x=\"80\" y=\"100\" width=\"519\" height=\"270\" style=\"fill: rgb(229, 236, 246); fill-opacity: 1; stroke-width: 0;\"/></g><g class=\"layer-below\"><g class=\"imagelayer\"/><g class=\"shapelayer\"/></g><g class=\"cartesianlayer\"><g class=\"subplot xy\"><g class=\"layer-subplot\"><g class=\"shapelayer\"/><g class=\"imagelayer\"/></g><g class=\"gridlayer\"><g class=\"x\"><path class=\"xgrid crisp\" transform=\"translate(116.47999999999999,0)\" d=\"M0,100v270\" style=\"stroke: rgb(255, 255, 255); stroke-opacity: 1; stroke-width: 1px;\"/><path class=\"xgrid crisp\" transform=\"translate(200.64,0)\" d=\"M0,100v270\" style=\"stroke: rgb(255, 255, 255); stroke-opacity: 1; stroke-width: 1px;\"/><path class=\"xgrid crisp\" transform=\"translate(284.8,0)\" d=\"M0,100v270\" style=\"stroke: rgb(255, 255, 255); stroke-opacity: 1; stroke-width: 1px;\"/><path class=\"xgrid crisp\" transform=\"translate(368.96,0)\" d=\"M0,100v270\" style=\"stroke: rgb(255, 255, 255); stroke-opacity: 1; stroke-width: 1px;\"/><path class=\"xgrid crisp\" transform=\"translate(453.11,0)\" d=\"M0,100v270\" style=\"stroke: rgb(255, 255, 255); stroke-opacity: 1; stroke-width: 1px;\"/><path class=\"xgrid crisp\" transform=\"translate(537.27,0)\" d=\"M0,100v270\" style=\"stroke: rgb(255, 255, 255); stroke-opacity: 1; stroke-width: 1px;\"/></g><g class=\"y\"><path class=\"ygrid crisp\" transform=\"translate(0,339.14)\" d=\"M80,0h519\" style=\"stroke: rgb(255, 255, 255); stroke-opacity: 1; stroke-width: 1px;\"/><path class=\"ygrid crisp\" transform=\"translate(0,269.71000000000004)\" d=\"M80,0h519\" style=\"stroke: rgb(255, 255, 255); stroke-opacity: 1; stroke-width: 1px;\"/><path class=\"ygrid crisp\" transform=\"translate(0,200.29000000000002)\" d=\"M80,0h519\" style=\"stroke: rgb(255, 255, 255); stroke-opacity: 1; stroke-width: 1px;\"/><path class=\"ygrid crisp\" transform=\"translate(0,130.86)\" d=\"M80,0h519\" style=\"stroke: rgb(255, 255, 255); stroke-opacity: 1; stroke-width: 1px;\"/></g></g><g class=\"zerolinelayer\"/><path class=\"xlines-below\"/><path class=\"ylines-below\"/><g class=\"overlines-below\"/><g class=\"xaxislayer-below\"/><g class=\"yaxislayer-below\"/><g class=\"overaxes-below\"/><g class=\"plot\" transform=\"translate(80, 100)\" clip-path=\"url('#clipe52d4axyplot')\"><g class=\"scatterlayer mlayer\"><g class=\"trace scatter traceade6d7\" style=\"stroke-miterlimit: 2; opacity: 1;\"><g class=\"fills\"/><g class=\"errorbars\"/><g class=\"lines\"><path class=\"js-line\" d=\"M0,221.79L4.92,221.79L9.85,169.71L29.46,169.71L34.38,135L37.2,65.57L42.08,65.57L51.93,65.57L56.13,13.5L76.46,13.5L79.28,48.21L118.54,48.21L121.36,30.86L145.89,30.86L150.81,48.21L162,48.21L163.43,65.57L168.32,65.57L173.24,82.93L202.69,82.93L205.51,100.29L266.53,100.29L270.02,82.93L286.85,82.93L289.67,100.29L294.55,117.64L299.47,117.64L371.01,117.64L373.83,135L455.17,135L457.99,169.71L476.92,169.71L482.52,221.79L497.25,221.79L500.06,239.14L504.95,221.79L509.87,221.79L519,221.79\" style=\"vector-effect: non-scaling-stroke; fill: none; stroke: rgb(99, 110, 250); stroke-opacity: 1; stroke-width: 2px; opacity: 1;\"/></g><g class=\"points\"/><g class=\"text\"/></g><g class=\"trace scatter trace3ee94e\" style=\"stroke-miterlimit: 2; opacity: 1;\"><g class=\"fills\"/><g class=\"errorbars\"/><g class=\"lines\"><path class=\"js-line\" d=\"M0,256.5L3.53,239.14L4.92,239.14L9.85,221.79L14.05,221.79L17.55,239.14L19.65,239.14L24.57,135L25.25,221.79L29.46,239.14L34.38,152.36L37.2,48.21L42.08,117.64L44.18,117.64L47,169.71L51.93,117.64L56.13,117.64L61.73,135L66.65,117.64L71.53,65.57L76.46,48.21L89.08,48.21L89.08,48.21L94,30.86L98.21,30.86L103.81,82.93L113.61,117.64L118.54,152.36L121.36,135L126.24,135L131.16,152.36L136.08,152.36L145.89,152.36L150.81,100.29L155.69,100.29L160.61,117.64L168.32,117.64L173.24,152.36L178.16,152.36L182.37,135L197.77,135L202.69,117.64L205.51,117.64L210.39,169.71L227.23,169.71L230.04,152.36L234.97,135L237.07,135L237.07,187.07L239.85,135L244.77,135L247.59,152.36L252.47,169.71L257.4,169.71L262.32,169.71L266.53,152.36L270.02,117.64L272.12,117.64L277.05,135L281.93,135L286.85,169.71L289.67,169.71L294.55,187.07L299.47,100.29L308.61,100.29L314.2,117.64L319.13,152.36L324.01,169.71L331.75,169.71L336.63,135L341.55,169.71L346.48,169.71L378.71,169.71L378.71,204.43L378.71,169.71L383.63,204.43L388.56,204.43L392.76,221.79L398.36,221.79L403.28,204.43L408.16,204.43L413.09,152.36L445.36,152.36L450.24,169.71L455.17,187.07L457.99,187.07L462.87,187.07L467.79,204.43L476.92,204.43L482.52,187.07L487.44,187.07L492.32,239.14L497.25,239.14L500.06,256.5L519,256.5\" style=\"vector-effect: non-scaling-stroke; fill: none; stroke: rgb(239, 85, 59); stroke-opacity: 1; stroke-width: 2px; opacity: 1;\"/></g><g class=\"points\"/><g class=\"text\"/></g></g></g><g class=\"overplot\"/><path class=\"xlines-above crisp\" d=\"M0,0\" style=\"fill: none;\"/><path class=\"ylines-above crisp\" d=\"M0,0\" style=\"fill: none;\"/><g class=\"overlines-above\"/><g class=\"xaxislayer-above\"><g class=\"xtick\"><text text-anchor=\"middle\" x=\"0\" y=\"383\" transform=\"translate(116.47999999999999,0)\" style=\"font-family: 'Open Sans', verdana, arial, sans-serif; font-size: 12px; fill: rgb(42, 63, 95); fill-opacity: 1; white-space: pre;\">10</text></g><g class=\"xtick\"><text text-anchor=\"middle\" x=\"0\" y=\"383\" transform=\"translate(200.64,0)\" style=\"font-family: 'Open Sans', verdana, arial, sans-serif; font-size: 12px; fill: rgb(42, 63, 95); fill-opacity: 1; white-space: pre;\">12</text></g><g class=\"xtick\"><text text-anchor=\"middle\" x=\"0\" y=\"383\" transform=\"translate(284.8,0)\" style=\"font-family: 'Open Sans', verdana, arial, sans-serif; font-size: 12px; fill: rgb(42, 63, 95); fill-opacity: 1; white-space: pre;\">14</text></g><g class=\"xtick\"><text text-anchor=\"middle\" x=\"0\" y=\"383\" transform=\"translate(368.96,0)\" style=\"font-family: 'Open Sans', verdana, arial, sans-serif; font-size: 12px; fill: rgb(42, 63, 95); fill-opacity: 1; white-space: pre;\">16</text></g><g class=\"xtick\"><text text-anchor=\"middle\" x=\"0\" y=\"383\" transform=\"translate(453.11,0)\" style=\"font-family: 'Open Sans', verdana, arial, sans-serif; font-size: 12px; fill: rgb(42, 63, 95); fill-opacity: 1; white-space: pre;\">18</text></g><g class=\"xtick\"><text text-anchor=\"middle\" x=\"0\" y=\"383\" transform=\"translate(537.27,0)\" style=\"font-family: 'Open Sans', verdana, arial, sans-serif; font-size: 12px; fill: rgb(42, 63, 95); fill-opacity: 1; white-space: pre;\">20</text></g></g><g class=\"yaxislayer-above\"><g class=\"ytick\"><text text-anchor=\"end\" x=\"79\" y=\"4.199999999999999\" transform=\"translate(0,339.14)\" style=\"font-family: 'Open Sans', verdana, arial, sans-serif; font-size: 12px; fill: rgb(42, 63, 95); fill-opacity: 1; white-space: pre;\">20</text></g><g class=\"ytick\"><text text-anchor=\"end\" x=\"79\" y=\"4.199999999999999\" transform=\"translate(0,269.71000000000004)\" style=\"font-family: 'Open Sans', verdana, arial, sans-serif; font-size: 12px; fill: rgb(42, 63, 95); fill-opacity: 1; white-space: pre;\">40</text></g><g class=\"ytick\"><text text-anchor=\"end\" x=\"79\" y=\"4.199999999999999\" transform=\"translate(0,200.29000000000002)\" style=\"font-family: 'Open Sans', verdana, arial, sans-serif; font-size: 12px; fill: rgb(42, 63, 95); fill-opacity: 1; white-space: pre;\">60</text></g><g class=\"ytick\"><text text-anchor=\"end\" x=\"79\" y=\"4.199999999999999\" transform=\"translate(0,130.86)\" style=\"font-family: 'Open Sans', verdana, arial, sans-serif; font-size: 12px; fill: rgb(42, 63, 95); fill-opacity: 1; white-space: pre;\">80</text></g></g><g class=\"overaxes-above\"/></g></g><g class=\"polarlayer\"/><g class=\"ternarylayer\"/><g class=\"geolayer\"/><g class=\"funnelarealayer\"/><g class=\"pielayer\"/><g class=\"treemaplayer\"/><g class=\"sunburstlayer\"/><g class=\"glimages\"/><defs id=\"topdefs-e52d4a\"><g class=\"clips\"/><clipPath id=\"legende52d4a\"><rect width=\"79\" height=\"64\" x=\"0\" y=\"0\"/></clipPath></defs><g class=\"layer-above\"><g class=\"imagelayer\"/><g class=\"shapelayer\"/></g><g class=\"infolayer\"><g class=\"legend\" pointer-events=\"all\" transform=\"translate(609.38, 100)\"><rect class=\"bg\" shape-rendering=\"crispEdges\" width=\"79\" height=\"64\" x=\"0\" y=\"0\" style=\"stroke: rgb(68, 68, 68); stroke-opacity: 1; fill: rgb(255, 255, 255); fill-opacity: 1; stroke-width: 0px;\"/><g class=\"scrollbox\" transform=\"translate(0, 0)\" clip-path=\"url('#legende52d4a')\"><text class=\"legendtitletext user-select-none\" text-anchor=\"start\" x=\"2\" y=\"15.600000000000001\" style=\"font-family: 'Open Sans', verdana, arial, sans-serif; font-size: 12px; fill: rgb(42, 63, 95); fill-opacity: 1; white-space: pre;\">group</text><g class=\"groups\" transform=\"translate(0, 0)\"><g class=\"traces\" transform=\"translate(0, 30.1)\" style=\"opacity: 1;\"><text class=\"legendtext user-select-none\" text-anchor=\"start\" x=\"40\" y=\"4.680000000000001\" style=\"font-family: 'Open Sans', verdana, arial, sans-serif; font-size: 12px; fill: rgb(42, 63, 95); fill-opacity: 1; white-space: pre;\">pred</text><g class=\"layers\" style=\"opacity: 1;\"><g class=\"legendfill\"/><g class=\"legendlines\"><path class=\"js-line\" d=\"M5,0h30\" style=\"fill: none; stroke: rgb(99, 110, 250); stroke-opacity: 1; stroke-width: 2px;\"/></g><g class=\"legendsymbols\"><g class=\"legendpoints\"/></g></g><rect class=\"legendtoggle\" pointer-events=\"all\" x=\"0\" y=\"-9.5\" width=\"73.359375\" height=\"19\" style=\"cursor: pointer; fill: rgb(0, 0, 0); fill-opacity: 0;\"/></g></g><g class=\"groups\" transform=\"translate(0, 0)\"><g class=\"traces\" transform=\"translate(0, 49.1)\" style=\"opacity: 1;\"><text class=\"legendtext user-select-none\" text-anchor=\"start\" x=\"40\" y=\"4.680000000000001\" style=\"font-family: 'Open Sans', verdana, arial, sans-serif; font-size: 12px; fill: rgb(42, 63, 95); fill-opacity: 1; white-space: pre;\">actual</text><g class=\"layers\" style=\"opacity: 1;\"><g class=\"legendfill\"/><g class=\"legendlines\"><path class=\"js-line\" d=\"M5,0h30\" style=\"fill: none; stroke: rgb(239, 85, 59); stroke-opacity: 1; stroke-width: 2px;\"/></g><g class=\"legendsymbols\"><g class=\"legendpoints\"/></g></g><rect class=\"legendtoggle\" pointer-events=\"all\" x=\"0\" y=\"-9.5\" width=\"73.359375\" height=\"19\" style=\"cursor: pointer; fill: rgb(0, 0, 0); fill-opacity: 0;\"/></g></g></g><rect class=\"scrollbar\" rx=\"20\" ry=\"3\" width=\"0\" height=\"0\" x=\"0\" y=\"0\" style=\"fill: rgb(128, 139, 164); fill-opacity: 1;\"/></g><g class=\"g-gtitle\"><text class=\"gtitle\" x=\"35\" y=\"50\" text-anchor=\"start\" dy=\"0em\" style=\"font-family: 'Open Sans', verdana, arial, sans-serif; font-size: 17px; fill: rgb(42, 63, 95); opacity: 1; font-weight: normal; white-space: pre;\">Predicted vs. Actual 12-8-2018</text></g><g class=\"g-xtitle\"><text class=\"xtitle\" x=\"339.5\" y=\"410.8\" text-anchor=\"middle\" style=\"font-family: 'Open Sans', verdana, arial, sans-serif; font-size: 14px; fill: rgb(42, 63, 95); opacity: 1; font-weight: normal; white-space: pre;\">time</text></g><g class=\"g-ytitle\"><text class=\"ytitle\" transform=\"rotate(-90,39.840625,235)\" x=\"39.840625\" y=\"235\" text-anchor=\"middle\" style=\"font-family: 'Open Sans', verdana, arial, sans-serif; font-size: 14px; fill: rgb(42, 63, 95); opacity: 1; font-weight: normal; white-space: pre;\">wait_time</text></g></g></svg>"
      ]
     },
     "metadata": {},
     "output_type": "display_data"
    }
   ],
   "source": [
    "p = plot_actual_vs_pred(linear_reg_grid, y=2018, m=12, d=8)\n",
    "p.show('svg')"
   ]
  },
  {
   "cell_type": "code",
   "execution_count": 70,
   "metadata": {},
   "outputs": [
    {
     "data": {
      "image/svg+xml": [
       "<svg class=\"main-svg\" xmlns=\"http://www.w3.org/2000/svg\" xmlns:xlink=\"http://www.w3.org/1999/xlink\" width=\"700\" height=\"450\" style=\"\" viewBox=\"0 0 700 450\"><rect x=\"0\" y=\"0\" width=\"700\" height=\"450\" style=\"fill: rgb(255, 255, 255); fill-opacity: 1;\"/><defs id=\"defs-aebe6f\"><g class=\"clips\"><clipPath id=\"clipaebe6fxyplot\" class=\"plotclip\"><rect width=\"519\" height=\"270\"/></clipPath><clipPath class=\"axesclip\" id=\"clipaebe6fx\"><rect x=\"80\" y=\"0\" width=\"519\" height=\"450\"/></clipPath><clipPath class=\"axesclip\" id=\"clipaebe6fy\"><rect x=\"0\" y=\"100\" width=\"700\" height=\"270\"/></clipPath><clipPath class=\"axesclip\" id=\"clipaebe6fxy\"><rect x=\"80\" y=\"100\" width=\"519\" height=\"270\"/></clipPath></g><g class=\"gradients\"/></defs><g class=\"bglayer\"><rect class=\"bg\" x=\"80\" y=\"100\" width=\"519\" height=\"270\" style=\"fill: rgb(229, 236, 246); fill-opacity: 1; stroke-width: 0;\"/></g><g class=\"layer-below\"><g class=\"imagelayer\"/><g class=\"shapelayer\"/></g><g class=\"cartesianlayer\"><g class=\"subplot xy\"><g class=\"layer-subplot\"><g class=\"shapelayer\"/><g class=\"imagelayer\"/></g><g class=\"gridlayer\"><g class=\"x\"><path class=\"xgrid crisp\" transform=\"translate(117.86,0)\" d=\"M0,100v270\" style=\"stroke: rgb(255, 255, 255); stroke-opacity: 1; stroke-width: 1px;\"/><path class=\"xgrid crisp\" transform=\"translate(205.20999999999998,0)\" d=\"M0,100v270\" style=\"stroke: rgb(255, 255, 255); stroke-opacity: 1; stroke-width: 1px;\"/><path class=\"xgrid crisp\" transform=\"translate(292.55,0)\" d=\"M0,100v270\" style=\"stroke: rgb(255, 255, 255); stroke-opacity: 1; stroke-width: 1px;\"/><path class=\"xgrid crisp\" transform=\"translate(379.9,0)\" d=\"M0,100v270\" style=\"stroke: rgb(255, 255, 255); stroke-opacity: 1; stroke-width: 1px;\"/><path class=\"xgrid crisp\" transform=\"translate(467.24,0)\" d=\"M0,100v270\" style=\"stroke: rgb(255, 255, 255); stroke-opacity: 1; stroke-width: 1px;\"/><path class=\"xgrid crisp\" transform=\"translate(554.5899999999999,0)\" d=\"M0,100v270\" style=\"stroke: rgb(255, 255, 255); stroke-opacity: 1; stroke-width: 1px;\"/></g><g class=\"y\"><path class=\"ygrid crisp\" transform=\"translate(0,326.13)\" d=\"M80,0h519\" style=\"stroke: rgb(255, 255, 255); stroke-opacity: 1; stroke-width: 1px;\"/><path class=\"ygrid crisp\" transform=\"translate(0,265.38)\" d=\"M80,0h519\" style=\"stroke: rgb(255, 255, 255); stroke-opacity: 1; stroke-width: 1px;\"/><path class=\"ygrid crisp\" transform=\"translate(0,204.63)\" d=\"M80,0h519\" style=\"stroke: rgb(255, 255, 255); stroke-opacity: 1; stroke-width: 1px;\"/><path class=\"ygrid crisp\" transform=\"translate(0,143.88)\" d=\"M80,0h519\" style=\"stroke: rgb(255, 255, 255); stroke-opacity: 1; stroke-width: 1px;\"/></g></g><g class=\"zerolinelayer\"/><path class=\"xlines-below\"/><path class=\"ylines-below\"/><g class=\"overlines-below\"/><g class=\"xaxislayer-below\"/><g class=\"yaxislayer-below\"/><g class=\"overaxes-below\"/><g class=\"plot\" transform=\"translate(80, 100)\" clip-path=\"url('#clipaebe6fxyplot')\"><g class=\"scatterlayer mlayer\"><g class=\"trace scatter trace8193e0\" style=\"stroke-miterlimit: 2; opacity: 1;\"><g class=\"fills\"/><g class=\"errorbars\"/><g class=\"lines\"><path class=\"js-line\" d=\"M0,241.31L5.11,226.13L10.22,226.13L14.59,226.13L20.39,210.94L35.68,210.94L38.61,165.38L45.16,165.38L48.78,150.19L79.35,150.19L82.28,119.81L123.02,119.81L125.95,150.19L166.7,150.19L169.62,135L210.37,135L213.29,165.38L254.04,165.38L256.97,180.56L297.71,180.56L300.64,195.75L310.81,195.75L315.92,180.56L336.28,180.56L341.39,195.75L385.06,195.75L387.98,226.13L494.98,226.13L500.79,241.31L516.07,241.31L519,256.5\" style=\"vector-effect: non-scaling-stroke; fill: none; stroke: rgb(99, 110, 250); stroke-opacity: 1; stroke-width: 2px; opacity: 1;\"/></g><g class=\"points\"/><g class=\"text\"/></g><g class=\"trace scatter trace81b205\" style=\"stroke-miterlimit: 2; opacity: 1;\"><g class=\"fills\"/><g class=\"errorbars\"/><g class=\"lines\"><path class=\"js-line\" d=\"M0,226.13L14.59,226.13L20.39,241.31L25.5,226.13L30.57,241.31L42.23,241.31L43.67,150.19L48.78,150.19L53.89,165.38L56.77,104.63L58.26,104.63L74.24,104.63L79.35,89.44L82.28,89.44L87.34,74.25L97.56,104.63L101.93,104.63L107.74,150.19L112.85,150.19L117.91,180.56L123.02,165.38L125.95,165.38L131.02,150.19L136.13,135L141.24,135L145.6,135L151.41,119.81L174.69,119.81L179.8,135L184.91,135L189.28,150.19L200.19,150.19L205.26,180.56L223.47,180.56L228.58,135L232.95,135L238.76,150.19L243.87,150.19L248.93,165.38L262.03,165.38L267.14,150.19L272.25,119.81L276.62,135L287.54,135L292.6,150.19L297.71,135L300.64,135L305.71,165.38L310.81,180.56L315.92,119.81L320.29,43.88L326.1,13.5L331.21,28.69L336.28,28.69L341.39,13.5L344.31,28.69L349.38,43.88L354.49,104.63L359.6,135L363.96,180.56L369.77,210.94L374.88,195.75L379.95,195.75L385.06,165.38L387.98,180.56L398.16,180.56L403.27,165.38L407.64,165.38L413.44,180.56L418.55,180.56L423.62,195.75L428.73,180.56L431.66,180.56L436.72,195.75L441.83,195.75L446.94,180.56L451.31,180.56L467.29,180.56L472.4,226.13L475.33,226.13L480.39,241.31L490.61,241.31L494.98,226.13L505.9,226.13L510.96,241.31L519,241.31\" style=\"vector-effect: non-scaling-stroke; fill: none; stroke: rgb(239, 85, 59); stroke-opacity: 1; stroke-width: 2px; opacity: 1;\"/></g><g class=\"points\"/><g class=\"text\"/></g></g></g><g class=\"overplot\"/><path class=\"xlines-above crisp\" d=\"M0,0\" style=\"fill: none;\"/><path class=\"ylines-above crisp\" d=\"M0,0\" style=\"fill: none;\"/><g class=\"overlines-above\"/><g class=\"xaxislayer-above\"><g class=\"xtick\"><text text-anchor=\"middle\" x=\"0\" y=\"383\" transform=\"translate(117.86,0)\" style=\"font-family: 'Open Sans', verdana, arial, sans-serif; font-size: 12px; fill: rgb(42, 63, 95); fill-opacity: 1; white-space: pre;\">10</text></g><g class=\"xtick\"><text text-anchor=\"middle\" x=\"0\" y=\"383\" transform=\"translate(205.20999999999998,0)\" style=\"font-family: 'Open Sans', verdana, arial, sans-serif; font-size: 12px; fill: rgb(42, 63, 95); fill-opacity: 1; white-space: pre;\">12</text></g><g class=\"xtick\"><text text-anchor=\"middle\" x=\"0\" y=\"383\" transform=\"translate(292.55,0)\" style=\"font-family: 'Open Sans', verdana, arial, sans-serif; font-size: 12px; fill: rgb(42, 63, 95); fill-opacity: 1; white-space: pre;\">14</text></g><g class=\"xtick\"><text text-anchor=\"middle\" x=\"0\" y=\"383\" transform=\"translate(379.9,0)\" style=\"font-family: 'Open Sans', verdana, arial, sans-serif; font-size: 12px; fill: rgb(42, 63, 95); fill-opacity: 1; white-space: pre;\">16</text></g><g class=\"xtick\"><text text-anchor=\"middle\" x=\"0\" y=\"383\" transform=\"translate(467.24,0)\" style=\"font-family: 'Open Sans', verdana, arial, sans-serif; font-size: 12px; fill: rgb(42, 63, 95); fill-opacity: 1; white-space: pre;\">18</text></g><g class=\"xtick\"><text text-anchor=\"middle\" x=\"0\" y=\"383\" transform=\"translate(554.5899999999999,0)\" style=\"font-family: 'Open Sans', verdana, arial, sans-serif; font-size: 12px; fill: rgb(42, 63, 95); fill-opacity: 1; white-space: pre;\">20</text></g></g><g class=\"yaxislayer-above\"><g class=\"ytick\"><text text-anchor=\"end\" x=\"79\" y=\"4.199999999999999\" transform=\"translate(0,326.13)\" style=\"font-family: 'Open Sans', verdana, arial, sans-serif; font-size: 12px; fill: rgb(42, 63, 95); fill-opacity: 1; white-space: pre;\">20</text></g><g class=\"ytick\"><text text-anchor=\"end\" x=\"79\" y=\"4.199999999999999\" transform=\"translate(0,265.38)\" style=\"font-family: 'Open Sans', verdana, arial, sans-serif; font-size: 12px; fill: rgb(42, 63, 95); fill-opacity: 1; white-space: pre;\">40</text></g><g class=\"ytick\"><text text-anchor=\"end\" x=\"79\" y=\"4.199999999999999\" transform=\"translate(0,204.63)\" style=\"font-family: 'Open Sans', verdana, arial, sans-serif; font-size: 12px; fill: rgb(42, 63, 95); fill-opacity: 1; white-space: pre;\">60</text></g><g class=\"ytick\"><text text-anchor=\"end\" x=\"79\" y=\"4.199999999999999\" transform=\"translate(0,143.88)\" style=\"font-family: 'Open Sans', verdana, arial, sans-serif; font-size: 12px; fill: rgb(42, 63, 95); fill-opacity: 1; white-space: pre;\">80</text></g></g><g class=\"overaxes-above\"/></g></g><g class=\"polarlayer\"/><g class=\"ternarylayer\"/><g class=\"geolayer\"/><g class=\"funnelarealayer\"/><g class=\"pielayer\"/><g class=\"treemaplayer\"/><g class=\"sunburstlayer\"/><g class=\"glimages\"/><defs id=\"topdefs-aebe6f\"><g class=\"clips\"/><clipPath id=\"legendaebe6f\"><rect width=\"79\" height=\"64\" x=\"0\" y=\"0\"/></clipPath></defs><g class=\"layer-above\"><g class=\"imagelayer\"/><g class=\"shapelayer\"/></g><g class=\"infolayer\"><g class=\"legend\" pointer-events=\"all\" transform=\"translate(609.38, 100)\"><rect class=\"bg\" shape-rendering=\"crispEdges\" width=\"79\" height=\"64\" x=\"0\" y=\"0\" style=\"stroke: rgb(68, 68, 68); stroke-opacity: 1; fill: rgb(255, 255, 255); fill-opacity: 1; stroke-width: 0px;\"/><g class=\"scrollbox\" transform=\"translate(0, 0)\" clip-path=\"url('#legendaebe6f')\"><text class=\"legendtitletext user-select-none\" text-anchor=\"start\" x=\"2\" y=\"15.600000000000001\" style=\"font-family: 'Open Sans', verdana, arial, sans-serif; font-size: 12px; fill: rgb(42, 63, 95); fill-opacity: 1; white-space: pre;\">group</text><g class=\"groups\" transform=\"translate(0, 0)\"><g class=\"traces\" transform=\"translate(0, 30.1)\" style=\"opacity: 1;\"><text class=\"legendtext user-select-none\" text-anchor=\"start\" x=\"40\" y=\"4.680000000000001\" style=\"font-family: 'Open Sans', verdana, arial, sans-serif; font-size: 12px; fill: rgb(42, 63, 95); fill-opacity: 1; white-space: pre;\">pred</text><g class=\"layers\" style=\"opacity: 1;\"><g class=\"legendfill\"/><g class=\"legendlines\"><path class=\"js-line\" d=\"M5,0h30\" style=\"fill: none; stroke: rgb(99, 110, 250); stroke-opacity: 1; stroke-width: 2px;\"/></g><g class=\"legendsymbols\"><g class=\"legendpoints\"/></g></g><rect class=\"legendtoggle\" pointer-events=\"all\" x=\"0\" y=\"-9.5\" width=\"73.359375\" height=\"19\" style=\"cursor: pointer; fill: rgb(0, 0, 0); fill-opacity: 0;\"/></g></g><g class=\"groups\" transform=\"translate(0, 0)\"><g class=\"traces\" transform=\"translate(0, 49.1)\" style=\"opacity: 1;\"><text class=\"legendtext user-select-none\" text-anchor=\"start\" x=\"40\" y=\"4.680000000000001\" style=\"font-family: 'Open Sans', verdana, arial, sans-serif; font-size: 12px; fill: rgb(42, 63, 95); fill-opacity: 1; white-space: pre;\">actual</text><g class=\"layers\" style=\"opacity: 1;\"><g class=\"legendfill\"/><g class=\"legendlines\"><path class=\"js-line\" d=\"M5,0h30\" style=\"fill: none; stroke: rgb(239, 85, 59); stroke-opacity: 1; stroke-width: 2px;\"/></g><g class=\"legendsymbols\"><g class=\"legendpoints\"/></g></g><rect class=\"legendtoggle\" pointer-events=\"all\" x=\"0\" y=\"-9.5\" width=\"73.359375\" height=\"19\" style=\"cursor: pointer; fill: rgb(0, 0, 0); fill-opacity: 0;\"/></g></g></g><rect class=\"scrollbar\" rx=\"20\" ry=\"3\" width=\"0\" height=\"0\" x=\"0\" y=\"0\" style=\"fill: rgb(128, 139, 164); fill-opacity: 1;\"/></g><g class=\"g-gtitle\"><text class=\"gtitle\" x=\"35\" y=\"50\" text-anchor=\"start\" dy=\"0em\" style=\"font-family: 'Open Sans', verdana, arial, sans-serif; font-size: 17px; fill: rgb(42, 63, 95); opacity: 1; font-weight: normal; white-space: pre;\">Predicted vs. Actual 5-25-2018</text></g><g class=\"g-xtitle\"><text class=\"xtitle\" x=\"339.5\" y=\"410.8\" text-anchor=\"middle\" style=\"font-family: 'Open Sans', verdana, arial, sans-serif; font-size: 14px; fill: rgb(42, 63, 95); opacity: 1; font-weight: normal; white-space: pre;\">time</text></g><g class=\"g-ytitle\"><text class=\"ytitle\" transform=\"rotate(-90,39.840625,235)\" x=\"39.840625\" y=\"235\" text-anchor=\"middle\" style=\"font-family: 'Open Sans', verdana, arial, sans-serif; font-size: 14px; fill: rgb(42, 63, 95); opacity: 1; font-weight: normal; white-space: pre;\">wait_time</text></g></g></svg>"
      ]
     },
     "metadata": {},
     "output_type": "display_data"
    }
   ],
   "source": [
    "p = plot_actual_vs_pred(gb_reg_grid, y=2018, m=5, d=25)\n",
    "p.show('svg')"
   ]
  },
  {
   "cell_type": "code",
   "execution_count": 72,
   "metadata": {},
   "outputs": [
    {
     "data": {
      "image/svg+xml": [
       "<svg class=\"main-svg\" xmlns=\"http://www.w3.org/2000/svg\" xmlns:xlink=\"http://www.w3.org/1999/xlink\" width=\"700\" height=\"450\" style=\"\" viewBox=\"0 0 700 450\"><rect x=\"0\" y=\"0\" width=\"700\" height=\"450\" style=\"fill: rgb(255, 255, 255); fill-opacity: 1;\"/><defs id=\"defs-93cd8b\"><g class=\"clips\"><clipPath id=\"clip93cd8bxyplot\" class=\"plotclip\"><rect width=\"519\" height=\"270\"/></clipPath><clipPath class=\"axesclip\" id=\"clip93cd8bx\"><rect x=\"80\" y=\"0\" width=\"519\" height=\"450\"/></clipPath><clipPath class=\"axesclip\" id=\"clip93cd8by\"><rect x=\"0\" y=\"100\" width=\"700\" height=\"270\"/></clipPath><clipPath class=\"axesclip\" id=\"clip93cd8bxy\"><rect x=\"80\" y=\"100\" width=\"519\" height=\"270\"/></clipPath></g><g class=\"gradients\"/></defs><g class=\"bglayer\"><rect class=\"bg\" x=\"80\" y=\"100\" width=\"519\" height=\"270\" style=\"fill: rgb(229, 236, 246); fill-opacity: 1; stroke-width: 0;\"/></g><g class=\"layer-below\"><g class=\"imagelayer\"/><g class=\"shapelayer\"/></g><g class=\"cartesianlayer\"><g class=\"subplot xy\"><g class=\"layer-subplot\"><g class=\"shapelayer\"/><g class=\"imagelayer\"/></g><g class=\"gridlayer\"><g class=\"x\"><path class=\"xgrid crisp\" transform=\"translate(86.36,0)\" d=\"M0,100v270\" style=\"stroke: rgb(255, 255, 255); stroke-opacity: 1; stroke-width: 1px;\"/><path class=\"xgrid crisp\" transform=\"translate(162.49,0)\" d=\"M0,100v270\" style=\"stroke: rgb(255, 255, 255); stroke-opacity: 1; stroke-width: 1px;\"/><path class=\"xgrid crisp\" transform=\"translate(238.62,0)\" d=\"M0,100v270\" style=\"stroke: rgb(255, 255, 255); stroke-opacity: 1; stroke-width: 1px;\"/><path class=\"xgrid crisp\" transform=\"translate(314.76,0)\" d=\"M0,100v270\" style=\"stroke: rgb(255, 255, 255); stroke-opacity: 1; stroke-width: 1px;\"/><path class=\"xgrid crisp\" transform=\"translate(390.89,0)\" d=\"M0,100v270\" style=\"stroke: rgb(255, 255, 255); stroke-opacity: 1; stroke-width: 1px;\"/><path class=\"xgrid crisp\" transform=\"translate(467.02,0)\" d=\"M0,100v270\" style=\"stroke: rgb(255, 255, 255); stroke-opacity: 1; stroke-width: 1px;\"/><path class=\"xgrid crisp\" transform=\"translate(543.1600000000001,0)\" d=\"M0,100v270\" style=\"stroke: rgb(255, 255, 255); stroke-opacity: 1; stroke-width: 1px;\"/></g><g class=\"y\"><path class=\"ygrid crisp\" transform=\"translate(0,321.78999999999996)\" d=\"M80,0h519\" style=\"stroke: rgb(255, 255, 255); stroke-opacity: 1; stroke-width: 1px;\"/><path class=\"ygrid crisp\" transform=\"translate(0,252.36)\" d=\"M80,0h519\" style=\"stroke: rgb(255, 255, 255); stroke-opacity: 1; stroke-width: 1px;\"/><path class=\"ygrid crisp\" transform=\"translate(0,182.93)\" d=\"M80,0h519\" style=\"stroke: rgb(255, 255, 255); stroke-opacity: 1; stroke-width: 1px;\"/><path class=\"ygrid crisp\" transform=\"translate(0,113.5)\" d=\"M80,0h519\" style=\"stroke: rgb(255, 255, 255); stroke-opacity: 1; stroke-width: 1px;\"/></g></g><g class=\"zerolinelayer\"/><path class=\"xlines-below\"/><path class=\"ylines-below\"/><g class=\"overlines-below\"/><g class=\"xaxislayer-below\"/><g class=\"yaxislayer-below\"/><g class=\"overaxes-below\"/><g class=\"plot\" transform=\"translate(80, 100)\" clip-path=\"url('#clip93cd8bxyplot')\"><g class=\"scatterlayer mlayer\"><g class=\"trace scatter tracec8c293\" style=\"stroke-miterlimit: 2; opacity: 1;\"><g class=\"fills\"/><g class=\"errorbars\"/><g class=\"lines\"><path class=\"js-line\" d=\"M0,256.5L11.42,256.5L15.87,239.14L46.97,239.14L49.49,221.79L62.2,221.79L67.26,204.43L76.13,204.43L80.59,187.07L83.14,187.07L87.55,152.36L92.01,135L96.46,135L100.27,117.64L105.33,117.64L168.14,117.64L172.59,135L300.12,135L304.53,152.36L385.12,152.36L387.67,135L409.86,135L414.32,152.36L472.67,152.36L477.13,169.71L480.93,169.71L486,187.07L494.87,221.79L499.32,221.79L519,221.79\" style=\"vector-effect: non-scaling-stroke; fill: none; stroke: rgb(99, 110, 250); stroke-opacity: 1; stroke-width: 2px; opacity: 1;\"/></g><g class=\"points\"/><g class=\"text\"/></g><g class=\"trace scatter trace9f1465\" style=\"stroke-miterlimit: 2; opacity: 1;\"><g class=\"fills\"/><g class=\"errorbars\"/><g class=\"lines\"><path class=\"js-line\" d=\"M0,256.5L15.87,256.5L15.87,256.5L20.33,221.79L24.13,256.5L29.2,256.5L33.65,239.14L38.07,239.14L42.52,221.79L45.07,221.79L49.49,221.79L53.94,204.43L58.39,204.43L62.2,221.79L67.26,221.79L67.26,221.79L71.72,204.43L76.13,187.07L80.59,187.07L83.14,187.07L87.55,135L100.27,135L105.33,65.57L107.23,65.57L109.78,100.29L114.2,100.29L118.65,135L121.2,135L125.62,117.64L130.07,135L134.53,135L138.33,135L143.4,82.93L147.85,82.93L152.27,100.29L156.72,117.64L159.27,135L163.69,152.36L168.14,187.07L172.59,152.36L176.4,152.36L181.46,187.07L185.92,187.07L190.33,152.36L194.79,135L197.34,117.64L201.75,117.64L206.21,135L210.66,169.71L214.47,187.07L219.53,187.07L223.98,152.36L228.4,169.71L232.85,187.07L235.4,187.07L239.82,187.07L244.27,221.79L248.73,204.43L252.53,169.71L257.6,135L262.05,169.71L270.92,169.71L273.47,204.43L277.89,204.43L282.34,135L290.6,135L295.66,152.36L304.53,187.07L308.99,221.79L311.54,221.79L315.95,204.43L320.41,135L322.31,152.36L324.86,152.36L328.67,135L333.73,135L338.18,117.64L342.6,100.29L347.05,13.5L349.6,13.5L354.02,135L358.47,135L362.93,204.43L366.73,204.43L371.8,152.36L376.25,187.07L380.67,204.43L387.67,204.43L392.09,187.07L396.54,204.43L400.99,204.43L404.8,204.43L409.86,187.07L414.32,169.71L418.73,135L423.19,152.36L425.74,152.36L430.15,152.36L434.61,187.07L442.87,187.07L447.93,169.71L452.38,204.43L456.8,187.07L461.25,204.43L463.8,204.43L468.22,204.43L470.12,239.14L472.67,204.43L477.13,204.43L480.93,204.43L486,239.14L510.74,239.14L515.19,256.5L519,256.5\" style=\"vector-effect: non-scaling-stroke; fill: none; stroke: rgb(239, 85, 59); stroke-opacity: 1; stroke-width: 2px; opacity: 1;\"/></g><g class=\"points\"/><g class=\"text\"/></g></g></g><g class=\"overplot\"/><path class=\"xlines-above crisp\" d=\"M0,0\" style=\"fill: none;\"/><path class=\"ylines-above crisp\" d=\"M0,0\" style=\"fill: none;\"/><g class=\"overlines-above\"/><g class=\"xaxislayer-above\"><g class=\"xtick\"><text text-anchor=\"middle\" x=\"0\" y=\"383\" transform=\"translate(86.36,0)\" style=\"font-family: 'Open Sans', verdana, arial, sans-serif; font-size: 12px; fill: rgb(42, 63, 95); fill-opacity: 1; white-space: pre;\">8</text></g><g class=\"xtick\"><text text-anchor=\"middle\" x=\"0\" y=\"383\" transform=\"translate(162.49,0)\" style=\"font-family: 'Open Sans', verdana, arial, sans-serif; font-size: 12px; fill: rgb(42, 63, 95); fill-opacity: 1; white-space: pre;\">10</text></g><g class=\"xtick\"><text text-anchor=\"middle\" x=\"0\" y=\"383\" transform=\"translate(238.62,0)\" style=\"font-family: 'Open Sans', verdana, arial, sans-serif; font-size: 12px; fill: rgb(42, 63, 95); fill-opacity: 1; white-space: pre;\">12</text></g><g class=\"xtick\"><text text-anchor=\"middle\" x=\"0\" y=\"383\" transform=\"translate(314.76,0)\" style=\"font-family: 'Open Sans', verdana, arial, sans-serif; font-size: 12px; fill: rgb(42, 63, 95); fill-opacity: 1; white-space: pre;\">14</text></g><g class=\"xtick\"><text text-anchor=\"middle\" x=\"0\" y=\"383\" transform=\"translate(390.89,0)\" style=\"font-family: 'Open Sans', verdana, arial, sans-serif; font-size: 12px; fill: rgb(42, 63, 95); fill-opacity: 1; white-space: pre;\">16</text></g><g class=\"xtick\"><text text-anchor=\"middle\" x=\"0\" y=\"383\" transform=\"translate(467.02,0)\" style=\"font-family: 'Open Sans', verdana, arial, sans-serif; font-size: 12px; fill: rgb(42, 63, 95); fill-opacity: 1; white-space: pre;\">18</text></g><g class=\"xtick\"><text text-anchor=\"middle\" x=\"0\" y=\"383\" transform=\"translate(543.1600000000001,0)\" style=\"font-family: 'Open Sans', verdana, arial, sans-serif; font-size: 12px; fill: rgb(42, 63, 95); fill-opacity: 1; white-space: pre;\">20</text></g></g><g class=\"yaxislayer-above\"><g class=\"ytick\"><text text-anchor=\"end\" x=\"79\" y=\"4.199999999999999\" transform=\"translate(0,321.78999999999996)\" style=\"font-family: 'Open Sans', verdana, arial, sans-serif; font-size: 12px; fill: rgb(42, 63, 95); fill-opacity: 1; white-space: pre;\">20</text></g><g class=\"ytick\"><text text-anchor=\"end\" x=\"79\" y=\"4.199999999999999\" transform=\"translate(0,252.36)\" style=\"font-family: 'Open Sans', verdana, arial, sans-serif; font-size: 12px; fill: rgb(42, 63, 95); fill-opacity: 1; white-space: pre;\">40</text></g><g class=\"ytick\"><text text-anchor=\"end\" x=\"79\" y=\"4.199999999999999\" transform=\"translate(0,182.93)\" style=\"font-family: 'Open Sans', verdana, arial, sans-serif; font-size: 12px; fill: rgb(42, 63, 95); fill-opacity: 1; white-space: pre;\">60</text></g><g class=\"ytick\"><text text-anchor=\"end\" x=\"79\" y=\"4.199999999999999\" transform=\"translate(0,113.5)\" style=\"font-family: 'Open Sans', verdana, arial, sans-serif; font-size: 12px; fill: rgb(42, 63, 95); fill-opacity: 1; white-space: pre;\">80</text></g></g><g class=\"overaxes-above\"/></g></g><g class=\"polarlayer\"/><g class=\"ternarylayer\"/><g class=\"geolayer\"/><g class=\"funnelarealayer\"/><g class=\"pielayer\"/><g class=\"treemaplayer\"/><g class=\"sunburstlayer\"/><g class=\"glimages\"/><defs id=\"topdefs-93cd8b\"><g class=\"clips\"/><clipPath id=\"legend93cd8b\"><rect width=\"79\" height=\"64\" x=\"0\" y=\"0\"/></clipPath></defs><g class=\"layer-above\"><g class=\"imagelayer\"/><g class=\"shapelayer\"/></g><g class=\"infolayer\"><g class=\"legend\" pointer-events=\"all\" transform=\"translate(609.38, 100)\"><rect class=\"bg\" shape-rendering=\"crispEdges\" width=\"79\" height=\"64\" x=\"0\" y=\"0\" style=\"stroke: rgb(68, 68, 68); stroke-opacity: 1; fill: rgb(255, 255, 255); fill-opacity: 1; stroke-width: 0px;\"/><g class=\"scrollbox\" transform=\"translate(0, 0)\" clip-path=\"url('#legend93cd8b')\"><text class=\"legendtitletext user-select-none\" text-anchor=\"start\" x=\"2\" y=\"15.600000000000001\" style=\"font-family: 'Open Sans', verdana, arial, sans-serif; font-size: 12px; fill: rgb(42, 63, 95); fill-opacity: 1; white-space: pre;\">group</text><g class=\"groups\" transform=\"translate(0, 0)\"><g class=\"traces\" transform=\"translate(0, 30.1)\" style=\"opacity: 1;\"><text class=\"legendtext user-select-none\" text-anchor=\"start\" x=\"40\" y=\"4.680000000000001\" style=\"font-family: 'Open Sans', verdana, arial, sans-serif; font-size: 12px; fill: rgb(42, 63, 95); fill-opacity: 1; white-space: pre;\">pred</text><g class=\"layers\" style=\"opacity: 1;\"><g class=\"legendfill\"/><g class=\"legendlines\"><path class=\"js-line\" d=\"M5,0h30\" style=\"fill: none; stroke: rgb(99, 110, 250); stroke-opacity: 1; stroke-width: 2px;\"/></g><g class=\"legendsymbols\"><g class=\"legendpoints\"/></g></g><rect class=\"legendtoggle\" pointer-events=\"all\" x=\"0\" y=\"-9.5\" width=\"73.359375\" height=\"19\" style=\"cursor: pointer; fill: rgb(0, 0, 0); fill-opacity: 0;\"/></g></g><g class=\"groups\" transform=\"translate(0, 0)\"><g class=\"traces\" transform=\"translate(0, 49.1)\" style=\"opacity: 1;\"><text class=\"legendtext user-select-none\" text-anchor=\"start\" x=\"40\" y=\"4.680000000000001\" style=\"font-family: 'Open Sans', verdana, arial, sans-serif; font-size: 12px; fill: rgb(42, 63, 95); fill-opacity: 1; white-space: pre;\">actual</text><g class=\"layers\" style=\"opacity: 1;\"><g class=\"legendfill\"/><g class=\"legendlines\"><path class=\"js-line\" d=\"M5,0h30\" style=\"fill: none; stroke: rgb(239, 85, 59); stroke-opacity: 1; stroke-width: 2px;\"/></g><g class=\"legendsymbols\"><g class=\"legendpoints\"/></g></g><rect class=\"legendtoggle\" pointer-events=\"all\" x=\"0\" y=\"-9.5\" width=\"73.359375\" height=\"19\" style=\"cursor: pointer; fill: rgb(0, 0, 0); fill-opacity: 0;\"/></g></g></g><rect class=\"scrollbar\" rx=\"20\" ry=\"3\" width=\"0\" height=\"0\" x=\"0\" y=\"0\" style=\"fill: rgb(128, 139, 164); fill-opacity: 1;\"/></g><g class=\"g-gtitle\"><text class=\"gtitle\" x=\"35\" y=\"50\" text-anchor=\"start\" dy=\"0em\" style=\"font-family: 'Open Sans', verdana, arial, sans-serif; font-size: 17px; fill: rgb(42, 63, 95); opacity: 1; font-weight: normal; white-space: pre;\">Predicted vs. Actual 11-29-2018</text></g><g class=\"g-xtitle\"><text class=\"xtitle\" x=\"339.5\" y=\"410.8\" text-anchor=\"middle\" style=\"font-family: 'Open Sans', verdana, arial, sans-serif; font-size: 14px; fill: rgb(42, 63, 95); opacity: 1; font-weight: normal; white-space: pre;\">time</text></g><g class=\"g-ytitle\"><text class=\"ytitle\" transform=\"rotate(-90,39.840625,235)\" x=\"39.840625\" y=\"235\" text-anchor=\"middle\" style=\"font-family: 'Open Sans', verdana, arial, sans-serif; font-size: 14px; fill: rgb(42, 63, 95); opacity: 1; font-weight: normal; white-space: pre;\">wait_time</text></g></g></svg>"
      ]
     },
     "metadata": {},
     "output_type": "display_data"
    }
   ],
   "source": [
    "p = plot_actual_vs_pred(gb_reg_grid, y=2018, m=11, d=29)\n",
    "p.show('svg')"
   ]
  },
  {
   "cell_type": "code",
   "execution_count": 78,
   "metadata": {},
   "outputs": [
    {
     "data": {
      "image/svg+xml": [
       "<svg class=\"main-svg\" xmlns=\"http://www.w3.org/2000/svg\" xmlns:xlink=\"http://www.w3.org/1999/xlink\" width=\"700\" height=\"450\" style=\"\" viewBox=\"0 0 700 450\"><rect x=\"0\" y=\"0\" width=\"700\" height=\"450\" style=\"fill: rgb(255, 255, 255); fill-opacity: 1;\"/><defs id=\"defs-93fda9\"><g class=\"clips\"><clipPath id=\"clip93fda9xyplot\" class=\"plotclip\"><rect width=\"519\" height=\"270\"/></clipPath><clipPath class=\"axesclip\" id=\"clip93fda9x\"><rect x=\"80\" y=\"0\" width=\"519\" height=\"450\"/></clipPath><clipPath class=\"axesclip\" id=\"clip93fda9y\"><rect x=\"0\" y=\"100\" width=\"700\" height=\"270\"/></clipPath><clipPath class=\"axesclip\" id=\"clip93fda9xy\"><rect x=\"80\" y=\"100\" width=\"519\" height=\"270\"/></clipPath></g><g class=\"gradients\"/></defs><g class=\"bglayer\"><rect class=\"bg\" x=\"80\" y=\"100\" width=\"519\" height=\"270\" style=\"fill: rgb(229, 236, 246); fill-opacity: 1; stroke-width: 0;\"/></g><g class=\"layer-below\"><g class=\"imagelayer\"/><g class=\"shapelayer\"/></g><g class=\"cartesianlayer\"><g class=\"subplot xy\"><g class=\"layer-subplot\"><g class=\"shapelayer\"/><g class=\"imagelayer\"/></g><g class=\"gridlayer\"><g class=\"x\"><path class=\"xgrid crisp\" transform=\"translate(152.99,0)\" d=\"M0,100v270\" style=\"stroke: rgb(255, 255, 255); stroke-opacity: 1; stroke-width: 1px;\"/><path class=\"xgrid crisp\" transform=\"translate(312.85,0)\" d=\"M0,100v270\" style=\"stroke: rgb(255, 255, 255); stroke-opacity: 1; stroke-width: 1px;\"/><path class=\"xgrid crisp\" transform=\"translate(472.71,0)\" d=\"M0,100v270\" style=\"stroke: rgb(255, 255, 255); stroke-opacity: 1; stroke-width: 1px;\"/></g><g class=\"y\"><path class=\"ygrid crisp\" transform=\"translate(0,311.28999999999996)\" d=\"M80,0h519\" style=\"stroke: rgb(255, 255, 255); stroke-opacity: 1; stroke-width: 1px;\"/><path class=\"ygrid crisp\" transform=\"translate(0,254.78)\" d=\"M80,0h519\" style=\"stroke: rgb(255, 255, 255); stroke-opacity: 1; stroke-width: 1px;\"/><path class=\"ygrid crisp\" transform=\"translate(0,198.26999999999998)\" d=\"M80,0h519\" style=\"stroke: rgb(255, 255, 255); stroke-opacity: 1; stroke-width: 1px;\"/><path class=\"ygrid crisp\" transform=\"translate(0,141.76)\" d=\"M80,0h519\" style=\"stroke: rgb(255, 255, 255); stroke-opacity: 1; stroke-width: 1px;\"/></g></g><g class=\"zerolinelayer\"><path class=\"yzl zl crisp\" transform=\"translate(0,367.8)\" d=\"M80,0h519\" style=\"stroke: rgb(255, 255, 255); stroke-opacity: 1; stroke-width: 2px;\"/></g><path class=\"xlines-below\"/><path class=\"ylines-below\"/><g class=\"overlines-below\"/><g class=\"xaxislayer-below\"/><g class=\"yaxislayer-below\"/><g class=\"overaxes-below\"/><g class=\"plot\" transform=\"translate(80, 100)\" clip-path=\"url('#clip93fda9xyplot')\"><g class=\"scatterlayer mlayer\"><g class=\"trace scatter tracebed47d\" style=\"stroke-miterlimit: 2; opacity: 1;\"><g class=\"fills\"/><g class=\"errorbars\"/><g class=\"lines\"><path class=\"js-line\" d=\"M0,256.5L7.45,256.5L9.59,245.2L13.3,239.55L17.04,216.94L20.78,216.94L23.98,211.29L28.23,211.29L31.97,199.99L39.42,199.99L41.56,245.2L45.27,222.59L49.01,205.64L52.75,194.34L55.95,194.34L60.2,177.38L63.94,171.73L67.65,171.73L71.39,177.38L73.54,171.73L77.24,154.78L80.98,149.13L84.73,132.17L87.92,126.52L92.18,126.52L180.64,126.52L183.84,115.22L295.2,115.22L297.34,120.87L304.79,120.87L308.53,92.62L315.98,92.62L319.72,120.87L347.95,120.87L351.69,109.57L359.14,109.57L361.28,132.17L375.67,132.17L379.92,137.83L387.37,137.83L391.11,120.87L400.7,120.87L404.44,149.13L411.89,149.13L415.63,154.78L419.34,177.38L423.08,171.73L425.23,183.03L428.94,183.03L455.06,183.03L457.2,166.08L487.03,166.08L489.17,199.99L496.62,199.99L500.36,211.29L503.56,211.29L507.81,228.24L519,228.24\" style=\"vector-effect: non-scaling-stroke; fill: none; stroke: rgb(99, 110, 250); stroke-opacity: 1; stroke-width: 2px; opacity: 1;\"/></g><g class=\"points\"/><g class=\"text\"/></g><g class=\"trace scatter trace970127\" style=\"stroke-miterlimit: 2; opacity: 1;\"><g class=\"fills\"/><g class=\"errorbars\"/><g class=\"lines\"><path class=\"js-line\" d=\"M0,256.5L9.59,256.5L13.3,233.9L20.78,222.59L23.98,166.08L31.97,166.08L35.68,149.13L39.42,132.17L41.56,132.17L60.2,132.17L63.94,149.13L67.65,149.13L71.39,132.17L77.24,132.17L80.98,109.57L84.73,53.06L87.92,53.06L92.18,86.97L95.92,86.97L119.89,86.97L124.15,53.06L137.48,53.06L141.19,24.8L148.67,24.8L151.87,36.1L212.61,36.1L215.81,70.01L220.06,132.17L223.8,132.17L237.1,132.17L240.84,109.57L244.59,109.57L247.78,70.01L252.03,70.01L255.78,30.45L319.72,30.45L323.43,64.36L327.17,64.36L329.31,19.15L347.95,19.15L351.69,81.31L379.92,81.31L383.66,13.5L391.11,13.5L393.25,132.17L400.7,132.17L404.44,98.27L411.89,98.27L415.63,120.87L428.94,120.87L432.68,137.83L439.61,137.83L442.81,143.48L443.87,137.83L447.61,137.83L468.39,137.83L471.59,149.13L500.36,149.13L503.56,103.92L507.81,233.9L511.55,233.9L519,233.9\" style=\"vector-effect: non-scaling-stroke; fill: none; stroke: rgb(239, 85, 59); stroke-opacity: 1; stroke-width: 2px; opacity: 1;\"/></g><g class=\"points\"/><g class=\"text\"/></g></g></g><g class=\"overplot\"/><path class=\"xlines-above crisp\" d=\"M0,0\" style=\"fill: none;\"/><path class=\"ylines-above crisp\" d=\"M0,0\" style=\"fill: none;\"/><g class=\"overlines-above\"/><g class=\"xaxislayer-above\"><g class=\"xtick\"><text text-anchor=\"middle\" x=\"0\" y=\"383\" transform=\"translate(152.99,0)\" style=\"font-family: 'Open Sans', verdana, arial, sans-serif; font-size: 12px; fill: rgb(42, 63, 95); fill-opacity: 1; white-space: pre;\">10</text></g><g class=\"xtick\"><text text-anchor=\"middle\" x=\"0\" y=\"383\" transform=\"translate(312.85,0)\" style=\"font-family: 'Open Sans', verdana, arial, sans-serif; font-size: 12px; fill: rgb(42, 63, 95); fill-opacity: 1; white-space: pre;\">15</text></g><g class=\"xtick\"><text text-anchor=\"middle\" x=\"0\" y=\"383\" transform=\"translate(472.71,0)\" style=\"font-family: 'Open Sans', verdana, arial, sans-serif; font-size: 12px; fill: rgb(42, 63, 95); fill-opacity: 1; white-space: pre;\">20</text></g></g><g class=\"yaxislayer-above\"><g class=\"ytick\"><text text-anchor=\"end\" x=\"79\" y=\"4.199999999999999\" transform=\"translate(0,367.8)\" style=\"font-family: 'Open Sans', verdana, arial, sans-serif; font-size: 12px; fill: rgb(42, 63, 95); fill-opacity: 1; white-space: pre;\">0</text></g><g class=\"ytick\"><text text-anchor=\"end\" x=\"79\" y=\"4.199999999999999\" transform=\"translate(0,311.28999999999996)\" style=\"font-family: 'Open Sans', verdana, arial, sans-serif; font-size: 12px; fill: rgb(42, 63, 95); fill-opacity: 1; white-space: pre;\">50</text></g><g class=\"ytick\"><text text-anchor=\"end\" x=\"79\" y=\"4.199999999999999\" transform=\"translate(0,254.78)\" style=\"font-family: 'Open Sans', verdana, arial, sans-serif; font-size: 12px; fill: rgb(42, 63, 95); fill-opacity: 1; white-space: pre;\">100</text></g><g class=\"ytick\"><text text-anchor=\"end\" x=\"79\" y=\"4.199999999999999\" transform=\"translate(0,198.26999999999998)\" style=\"font-family: 'Open Sans', verdana, arial, sans-serif; font-size: 12px; fill: rgb(42, 63, 95); fill-opacity: 1; white-space: pre;\">150</text></g><g class=\"ytick\"><text text-anchor=\"end\" x=\"79\" y=\"4.199999999999999\" transform=\"translate(0,141.76)\" style=\"font-family: 'Open Sans', verdana, arial, sans-serif; font-size: 12px; fill: rgb(42, 63, 95); fill-opacity: 1; white-space: pre;\">200</text></g></g><g class=\"overaxes-above\"/></g></g><g class=\"polarlayer\"/><g class=\"ternarylayer\"/><g class=\"geolayer\"/><g class=\"funnelarealayer\"/><g class=\"pielayer\"/><g class=\"treemaplayer\"/><g class=\"sunburstlayer\"/><g class=\"glimages\"/><defs id=\"topdefs-93fda9\"><g class=\"clips\"/><clipPath id=\"legend93fda9\"><rect width=\"79\" height=\"64\" x=\"0\" y=\"0\"/></clipPath></defs><g class=\"layer-above\"><g class=\"imagelayer\"/><g class=\"shapelayer\"/></g><g class=\"infolayer\"><g class=\"legend\" pointer-events=\"all\" transform=\"translate(609.38, 100)\"><rect class=\"bg\" shape-rendering=\"crispEdges\" width=\"79\" height=\"64\" x=\"0\" y=\"0\" style=\"stroke: rgb(68, 68, 68); stroke-opacity: 1; fill: rgb(255, 255, 255); fill-opacity: 1; stroke-width: 0px;\"/><g class=\"scrollbox\" transform=\"translate(0, 0)\" clip-path=\"url('#legend93fda9')\"><text class=\"legendtitletext user-select-none\" text-anchor=\"start\" x=\"2\" y=\"15.600000000000001\" style=\"font-family: 'Open Sans', verdana, arial, sans-serif; font-size: 12px; fill: rgb(42, 63, 95); fill-opacity: 1; white-space: pre;\">group</text><g class=\"groups\" transform=\"translate(0, 0)\"><g class=\"traces\" transform=\"translate(0, 30.1)\" style=\"opacity: 1;\"><text class=\"legendtext user-select-none\" text-anchor=\"start\" x=\"40\" y=\"4.680000000000001\" style=\"font-family: 'Open Sans', verdana, arial, sans-serif; font-size: 12px; fill: rgb(42, 63, 95); fill-opacity: 1; white-space: pre;\">pred</text><g class=\"layers\" style=\"opacity: 1;\"><g class=\"legendfill\"/><g class=\"legendlines\"><path class=\"js-line\" d=\"M5,0h30\" style=\"fill: none; stroke: rgb(99, 110, 250); stroke-opacity: 1; stroke-width: 2px;\"/></g><g class=\"legendsymbols\"><g class=\"legendpoints\"/></g></g><rect class=\"legendtoggle\" pointer-events=\"all\" x=\"0\" y=\"-9.5\" width=\"73.359375\" height=\"19\" style=\"cursor: pointer; fill: rgb(0, 0, 0); fill-opacity: 0;\"/></g></g><g class=\"groups\" transform=\"translate(0, 0)\"><g class=\"traces\" transform=\"translate(0, 49.1)\" style=\"opacity: 1;\"><text class=\"legendtext user-select-none\" text-anchor=\"start\" x=\"40\" y=\"4.680000000000001\" style=\"font-family: 'Open Sans', verdana, arial, sans-serif; font-size: 12px; fill: rgb(42, 63, 95); fill-opacity: 1; white-space: pre;\">actual</text><g class=\"layers\" style=\"opacity: 1;\"><g class=\"legendfill\"/><g class=\"legendlines\"><path class=\"js-line\" d=\"M5,0h30\" style=\"fill: none; stroke: rgb(239, 85, 59); stroke-opacity: 1; stroke-width: 2px;\"/></g><g class=\"legendsymbols\"><g class=\"legendpoints\"/></g></g><rect class=\"legendtoggle\" pointer-events=\"all\" x=\"0\" y=\"-9.5\" width=\"73.359375\" height=\"19\" style=\"cursor: pointer; fill: rgb(0, 0, 0); fill-opacity: 0;\"/></g></g></g><rect class=\"scrollbar\" rx=\"20\" ry=\"3\" width=\"0\" height=\"0\" x=\"0\" y=\"0\" style=\"fill: rgb(128, 139, 164); fill-opacity: 1;\"/></g><g class=\"g-gtitle\"><text class=\"gtitle\" x=\"35\" y=\"50\" text-anchor=\"start\" dy=\"0em\" style=\"font-family: 'Open Sans', verdana, arial, sans-serif; font-size: 17px; fill: rgb(42, 63, 95); opacity: 1; font-weight: normal; white-space: pre;\">Predicted vs. Actual 12-31-2018</text></g><g class=\"g-xtitle\"><text class=\"xtitle\" x=\"339.5\" y=\"410.8\" text-anchor=\"middle\" style=\"font-family: 'Open Sans', verdana, arial, sans-serif; font-size: 14px; fill: rgb(42, 63, 95); opacity: 1; font-weight: normal; white-space: pre;\">time</text></g><g class=\"g-ytitle\"><text class=\"ytitle\" transform=\"rotate(-90,33.16875,235)\" x=\"33.16875\" y=\"235\" text-anchor=\"middle\" style=\"font-family: 'Open Sans', verdana, arial, sans-serif; font-size: 14px; fill: rgb(42, 63, 95); opacity: 1; font-weight: normal; white-space: pre;\">wait_time</text></g></g></svg>"
      ]
     },
     "metadata": {},
     "output_type": "display_data"
    }
   ],
   "source": [
    "p = plot_actual_vs_pred(gb_reg_grid, y=2018, m=12, d=31)\n",
    "p.show('svg')"
   ]
  },
  {
   "cell_type": "code",
   "execution_count": null,
   "metadata": {},
   "outputs": [],
   "source": []
  }
 ],
 "metadata": {
  "kernelspec": {
   "display_name": "Python 3",
   "language": "python",
   "name": "python3"
  },
  "language_info": {
   "codemirror_mode": {
    "name": "ipython",
    "version": 3
   },
   "file_extension": ".py",
   "mimetype": "text/x-python",
   "name": "python",
   "nbconvert_exporter": "python",
   "pygments_lexer": "ipython3",
   "version": "3.8.3"
  }
 },
 "nbformat": 4,
 "nbformat_minor": 4
}
