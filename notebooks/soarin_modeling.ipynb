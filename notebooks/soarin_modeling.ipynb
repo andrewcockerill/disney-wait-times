{
 "cells": [
  {
   "cell_type": "markdown",
   "metadata": {},
   "source": [
    "### Regression Models for Soarin' Wait Times"
   ]
  },
  {
   "cell_type": "markdown",
   "metadata": {},
   "source": [
    "#### Overview\n",
    "This notebook documents the regession modeling process to predict <i>Soarin'</i> wait times at a given time of day. This will incorporate other predictors explored in the notebook <tt>soarin_eda.ipynb</tt>. The following constraints will be in place in the modeling process:\n",
    "\n",
    "- Predicted wait times will be rounded to the nearest integer that is divisible by 5. Posted wait times for this attraction are only shown in increments of 5 minutes, so all models here will adhere to this level of precision as well.\n",
    "\n",
    "\n",
    "- Each model will be constructed in such a way that all predictions must be greater than or equal to 0. If an algorithm may be capable of returning negative values, a natural log transform will be applied to the target variable.\n",
    "\n",
    "\n",
    "- Records in which the posted wait time is 0 minutes will be removed from training, validation, and testing. This observation has been shown to be exceedingly rare. This will also allow for easier implementation of log transforms without having to further perturb the data (ex. adding 1 to each value).\n",
    "\n",
    "\n",
    "- Only records that were measured between 7am and 11pm will be considered. From exploratory analysis, measurement counts outside of this window are very rare and may be related to special events."
   ]
  },
  {
   "cell_type": "markdown",
   "metadata": {},
   "source": [
    "#### Packages and Data Load"
   ]
  },
  {
   "cell_type": "code",
   "execution_count": 143,
   "metadata": {},
   "outputs": [],
   "source": [
    "# Packages\n",
    "import numpy as np\n",
    "import pandas as pd\n",
    "from sklearn.preprocessing import FunctionTransformer, KBinsDiscretizer, MinMaxScaler, OneHotEncoder\n",
    "from sklearn.impute import SimpleImputer\n",
    "from sklearn.pipeline import Pipeline\n",
    "from sklearn.base import BaseEstimator, TransformerMixin, RegressorMixin\n",
    "from sklearn.model_selection import PredefinedSplit, GridSearchCV\n",
    "from sklearn.compose import TransformedTargetRegressor, ColumnTransformer\n",
    "from sklearn.linear_model import Lasso\n",
    "import sqlite3\n",
    "import plotly.express as px"
   ]
  },
  {
   "cell_type": "code",
   "execution_count": 2,
   "metadata": {},
   "outputs": [],
   "source": [
    "# Pull Soarnin' data\n",
    "# This query differs from the exploratory analysis in that:\n",
    "# Wait times are dropped if they equal 0\n",
    "# Only observations between 7am-11pm are considered\n",
    "# Does not pull the yyyy-mm-dd date string as it is unnecessary\n",
    "# Adds a column for a continuous measure of time (ex 8.5 is 8:30 am, 13.33 is 1:20pm)\n",
    "\n",
    "with open('../src/soarin_query_model.sql', 'r') as sqlfile:\n",
    "    soarin_query = sqlfile.read()\n",
    "\n",
    "with sqlite3.connect('../data/project_data.db') as conn:\n",
    "    soarin_df = pd.read_sql(soarin_query, con=conn)"
   ]
  },
  {
   "cell_type": "code",
   "execution_count": 3,
   "metadata": {},
   "outputs": [
    {
     "name": "stdout",
     "output_type": "stream",
     "text": [
      "0 year_of_calendar\n",
      "1 month_of_year\n",
      "2 day_of_month\n",
      "3 day_of_week\n",
      "4 hour_of_day\n",
      "5 minute_of_day\n",
      "6 time_cont\n",
      "7 tmax\n",
      "8 days_tofrom_holiday\n",
      "9 unemp_local_change\n",
      "10 unemp_natl_change\n",
      "11 cpi_natl_change\n",
      "12 avg_wait_time_prev\n",
      "13 wait_time\n"
     ]
    }
   ],
   "source": [
    "# View the column names and indices for future reference\n",
    "for idx, value in enumerate(soarin_df.columns):\n",
    "    print(idx, value)"
   ]
  },
  {
   "cell_type": "markdown",
   "metadata": {},
   "source": [
    "#### Train/Dev/Test Splitting\n",
    "Separate train, validation, and test designations will be created based on year:\n",
    "\n",
    "- Training : 2015-2017\n",
    "\n",
    "- Validation : 2018\n",
    "\n",
    "- Test : 2019\n",
    "\n",
    "The train and validation sets will be merged into a single DataFrame which we will concatenate. Using a PredefinedSplit, we will perform any hyperparameter tuning using the validation portion."
   ]
  },
  {
   "cell_type": "code",
   "execution_count": 4,
   "metadata": {},
   "outputs": [],
   "source": [
    "# Year cutoffs\n",
    "TRAIN_YEARS = [2015, 2016, 2017]\n",
    "VALIDATION_YEARS = [2018]\n",
    "TEST_YEARS = [2019]"
   ]
  },
  {
   "cell_type": "code",
   "execution_count": 5,
   "metadata": {},
   "outputs": [],
   "source": [
    "def make_data_arrays(df, years):\n",
    "    context = df[df.year_of_calendar.isin(years)].reset_index(drop=True)\n",
    "    X = context.drop(['wait_time'], axis=1)\n",
    "    y = context.wait_time.values\n",
    "    return X,y"
   ]
  },
  {
   "cell_type": "code",
   "execution_count": 6,
   "metadata": {},
   "outputs": [],
   "source": [
    "# Make datasets\n",
    "X_train_valid, y_train_valid = make_data_arrays(soarin_df, TRAIN_YEARS+VALIDATION_YEARS)\n",
    "X_test, y_test = make_data_arrays(soarin_df, TEST_YEARS)"
   ]
  },
  {
   "cell_type": "code",
   "execution_count": 7,
   "metadata": {},
   "outputs": [],
   "source": [
    "# Predefined splits (-1 if training, 0 if validation)\n",
    "train_valid_folds = np.isin(X_train_valid.year_of_calendar, TRAIN_YEARS)\n",
    "split_object = PredefinedSplit(test_fold = train_valid_folds*-1)"
   ]
  },
  {
   "cell_type": "markdown",
   "metadata": {},
   "source": [
    "#### Simple Baseline Model\n",
    "The baseline model will use a very simplistic rule in which a prediction for any given time will just use the value of <tt>avg_wait_time_prev</tt>, the average wait time over the same hour measured the previous week. A simple pipeline consisting of selecting this column and performing a mean imputation step is used so that a prediction can be made.\n",
    "\n",
    "There are no hyperparameters to tune in this case, but here we examine performance on the created validation set for further comparisons. In this case, we actually find that the R-squared value for the validation set is less than zero."
   ]
  },
  {
   "cell_type": "code",
   "execution_count": 117,
   "metadata": {},
   "outputs": [],
   "source": [
    "# Baseline model\n",
    "def to_nearest_five(y):\n",
    "    # Round values to the nearest integer divisible by 5\n",
    "    return np.round(y/5, 0)*5\n",
    "\n",
    "class BaselineModel(BaseEstimator, RegressorMixin):\n",
    "    def __init__(self, dummy_param=1):\n",
    "        self.fit_performed = False\n",
    "        self.dummy_param = dummy_param\n",
    "    \n",
    "    def fit(self, X, y):\n",
    "        self.fit_performed = True\n",
    "    \n",
    "    def predict(self, X):\n",
    "        return X.reshape(-1,)"
   ]
  },
  {
   "cell_type": "code",
   "execution_count": 132,
   "metadata": {},
   "outputs": [],
   "source": [
    "# Baseline pipeline\n",
    "baseline_pipe = Pipeline([\n",
    "    ('select_prev', ColumnTransformer([\n",
    "        ('prev_wait', 'passthrough', ['avg_wait_time_prev'])\n",
    "    ], remainder='drop')),\n",
    "    \n",
    "    ('imputer', SimpleImputer(strategy='mean')),\n",
    "    \n",
    "    ('baseline_model', TransformedTargetRegressor(regressor=BaselineModel(), inverse_func=to_nearest_five))\n",
    "])"
   ]
  },
  {
   "cell_type": "code",
   "execution_count": 136,
   "metadata": {},
   "outputs": [],
   "source": [
    "grid = GridSearchCV(\n",
    "    estimator = baseline_pipe,\n",
    "    param_grid = {'baseline_model__regressor__dummy_param':[1]},\n",
    "    cv = split_object,\n",
    "    scoring = 'r2'\n",
    ")"
   ]
  },
  {
   "cell_type": "code",
   "execution_count": 137,
   "metadata": {},
   "outputs": [
    {
     "data": {
      "text/plain": [
       "GridSearchCV(cv=PredefinedSplit(test_fold=array([-1, -1, ...,  0,  0])),\n",
       "             estimator=Pipeline(steps=[('select_prev',\n",
       "                                        ColumnTransformer(transformers=[('prev_wait',\n",
       "                                                                         'passthrough',\n",
       "                                                                         ['avg_wait_time_prev'])])),\n",
       "                                       ('imputer', SimpleImputer()),\n",
       "                                       ('baseline_model',\n",
       "                                        TransformedTargetRegressor(inverse_func=<function to_nearest_five at 0x7fbd4388a670>,\n",
       "                                                                   regressor=BaselineModel()))]),\n",
       "             param_grid={'baseline_model__regressor__dummy_param': [1]},\n",
       "             scoring='r2')"
      ]
     },
     "execution_count": 137,
     "metadata": {},
     "output_type": "execute_result"
    }
   ],
   "source": [
    "grid.fit(X_train_valid, y_train_valid)"
   ]
  },
  {
   "cell_type": "code",
   "execution_count": 138,
   "metadata": {},
   "outputs": [
    {
     "data": {
      "text/plain": [
       "-0.00413966906070895"
      ]
     },
     "execution_count": 138,
     "metadata": {},
     "output_type": "execute_result"
    }
   ],
   "source": [
    "grid.best_score_"
   ]
  },
  {
   "cell_type": "markdown",
   "metadata": {},
   "source": [
    "#### Linear Regression with L1 Regularization\n",
    "\n",
    "A penalized linear regression is attempted first. Since the number of features is relatively small, we can spend some time attempting to engineer different transforms or use binning methods to try to capture non-linear effects in the data. Imputation and min-max scaling will also be applied to features where needed.\n",
    "\n",
    "\n",
    "The planned input features and related transforms will include:\n",
    "\n",
    "- <b>month_of_year</b>: One hot encoded\n",
    "\n",
    "- <b>day_of_week</b>: One hot encoded\n",
    "\n",
    "- <b>days_tofrom_holiday</b>: One hot encoded - if null, will encode as the 'category' 6\n",
    "\n",
    "- <b>tmax (real)</b>: Identity\n",
    "\n",
    "- <b>unemp_local_change</b>: Identity\n",
    "\n",
    "- <b>unemp_natl_change</b>: Identity\n",
    "\n",
    "- <b>cpi_natl_change</b>: Identity\n",
    "\n",
    "- <b>time_cont</b>: Binning\n",
    "\n",
    "- <b>avg_wait_time_prev</b>: Natural log\n",
    "\n",
    "\n",
    "The target variable of <tt>wait_time</tt> will also be log transformed to ensure the model cannot output negative values."
   ]
  },
  {
   "cell_type": "code",
   "execution_count": 242,
   "metadata": {},
   "outputs": [],
   "source": [
    "# One hot handling for month, day of week\n",
    "date_pipeline = Pipeline([\n",
    "    ('impute', SimpleImputer(strategy='median')),\n",
    "    ('one_hot', OneHotEncoder(drop=None))\n",
    "])\n",
    "\n",
    "# One hot handling for days to/from holiday\n",
    "holiday_pipeline = Pipeline([\n",
    "    ('impute', SimpleImputer(strategy='constant', fill_value=6)),\n",
    "    ('one_hot', OneHotEncoder(drop=None))\n",
    "])\n",
    "\n",
    "# Handling for identity features\n",
    "identity_pipeline = Pipeline([\n",
    "    ('impute', SimpleImputer(strategy='median')),\n",
    "    ('minmax', MinMaxScaler())\n",
    "])\n",
    "\n",
    "# Binning\n",
    "binning_pipeline = Pipeline([\n",
    "    ('impute', SimpleImputer(strategy='median')),\n",
    "    ('binning', KBinsDiscretizer(strategy='uniform'))\n",
    "])\n",
    "\n",
    "# Log transform\n",
    "logarithm_pipeline = Pipeline([\n",
    "    ('impute', SimpleImputer(strategy='median')),\n",
    "    ('log_xform', FunctionTransformer(func=np.log)),\n",
    "    ('minmax', MinMaxScaler())\n",
    "])\n",
    "\n",
    "# Combine into column transforms\n",
    "column_preprocessor = ColumnTransformer([\n",
    "    ('date_pipe', date_pipeline, ['month_of_year', 'day_of_week']),\n",
    "    ('holiday_pipe', holiday_pipeline, ['days_tofrom_holiday']),\n",
    "    ('identity_pipe', identity_pipeline, ['tmax', 'unemp_local_change', 'unemp_natl_change','cpi_natl_change']),\n",
    "    ('binning_pipe', binning_pipeline, ['time_cont'])\n",
    "    #,('logarithim_pipe', logarithm_pipeline, ['avg_wait_time_prev'])\n",
    "])\n",
    "\n",
    "# Inverse transform\n",
    "def exp_to_nearest_five(y):\n",
    "    return np.round(np.exp(y)/5, 0)*5\n",
    "\n",
    "# Regression with transformed target\n",
    "linear_model = TransformedTargetRegressor(\n",
    "    regressor = Lasso(),\n",
    "    func = np.log,\n",
    "    inverse_func = exp_to_nearest_five,\n",
    "    check_inverse = False # The rounding portion means the inverse will not be the same\n",
    ")"
   ]
  },
  {
   "cell_type": "code",
   "execution_count": 243,
   "metadata": {},
   "outputs": [],
   "source": [
    "# Model pipeline\n",
    "estimator_pipeline = Pipeline([\n",
    "    ('column_preprocessing', column_preprocessor),\n",
    "    ('regression', linear_model)\n",
    "])"
   ]
  },
  {
   "cell_type": "code",
   "execution_count": 244,
   "metadata": {},
   "outputs": [],
   "source": [
    "# Hyperparameters\n",
    "hyperparams = {\n",
    "    'column_preprocessing__binning_pipe__binning__n_bins': [5, 10, 15, 20, 25],\n",
    "    'regression__regressor__alpha': [0.001, 0.01, 0.1, 1, 10]\n",
    "}"
   ]
  },
  {
   "cell_type": "code",
   "execution_count": 245,
   "metadata": {},
   "outputs": [],
   "source": [
    "# Grid Search\n",
    "grid = GridSearchCV(\n",
    "    estimator = estimator_pipeline,\n",
    "    param_grid = hyperparams,\n",
    "    cv = split_object,\n",
    "    scoring = 'neg_mean_absolute_error'\n",
    ")"
   ]
  },
  {
   "cell_type": "code",
   "execution_count": 246,
   "metadata": {},
   "outputs": [
    {
     "data": {
      "text/plain": [
       "GridSearchCV(cv=PredefinedSplit(test_fold=array([-1, -1, ...,  0,  0])),\n",
       "             estimator=Pipeline(steps=[('column_preprocessing',\n",
       "                                        ColumnTransformer(transformers=[('date_pipe',\n",
       "                                                                         Pipeline(steps=[('impute',\n",
       "                                                                                          SimpleImputer(strategy='median')),\n",
       "                                                                                         ('one_hot',\n",
       "                                                                                          OneHotEncoder())]),\n",
       "                                                                         ['month_of_year',\n",
       "                                                                          'day_of_week']),\n",
       "                                                                        ('holiday_pipe',\n",
       "                                                                         Pipeline(steps=[('impute',\n",
       "                                                                                          SimpleImputer(fill_value...\n",
       "                                                                                          KBinsDiscretizer(strategy='uniform'))]),\n",
       "                                                                         ['time_cont'])])),\n",
       "                                       ('regression',\n",
       "                                        TransformedTargetRegressor(check_inverse=False,\n",
       "                                                                   func=<ufunc 'log'>,\n",
       "                                                                   inverse_func=<function exp_to_nearest_five at 0x7fbd2bba6dc0>,\n",
       "                                                                   regressor=Lasso()))]),\n",
       "             param_grid={'column_preprocessing__binning_pipe__binning__n_bins': [5,\n",
       "                                                                                 10,\n",
       "                                                                                 15,\n",
       "                                                                                 20,\n",
       "                                                                                 25],\n",
       "                         'regression__regressor__alpha': [0.001, 0.01, 0.1, 1,\n",
       "                                                          10]},\n",
       "             scoring='neg_mean_absolute_error')"
      ]
     },
     "execution_count": 246,
     "metadata": {},
     "output_type": "execute_result"
    }
   ],
   "source": [
    "grid.fit(X_train_valid, y_train_valid)"
   ]
  },
  {
   "cell_type": "code",
   "execution_count": 247,
   "metadata": {},
   "outputs": [
    {
     "data": {
      "text/plain": [
       "{'column_preprocessing__binning_pipe__binning__n_bins': 25,\n",
       " 'regression__regressor__alpha': 0.001}"
      ]
     },
     "execution_count": 247,
     "metadata": {},
     "output_type": "execute_result"
    }
   ],
   "source": [
    "grid.best_params_"
   ]
  },
  {
   "cell_type": "code",
   "execution_count": 248,
   "metadata": {},
   "outputs": [
    {
     "data": {
      "text/plain": [
       "-16.51861570559009"
      ]
     },
     "execution_count": 248,
     "metadata": {},
     "output_type": "execute_result"
    }
   ],
   "source": [
    "grid.best_score_"
   ]
  },
  {
   "cell_type": "code",
   "execution_count": 250,
   "metadata": {},
   "outputs": [],
   "source": [
    "def plot_actual_vs_pred(y, m, d):\n",
    "    context = soarin_df[\n",
    "        (soarin_df.year_of_calendar==y) & \n",
    "        (soarin_df.month_of_year==m) &\n",
    "        (soarin_df.day_of_month==d)]\n",
    "    \n",
    "    preds = grid.predict(context.drop('wait_time',axis=1).sort_values('time_cont'))\n",
    "\n",
    "    actuals = context.sort_values('time_cont').wait_time\n",
    "\n",
    "    times = context.sort_values('time_cont').time_cont\n",
    "\n",
    "    plot_df = pd.DataFrame({'pred':preds, 'actual':actuals, 'time':times}).reset_index(drop=True)\n",
    "    plot_df = pd.melt(frame=plot_df, id_vars='time', value_vars=['pred','actual'], \n",
    "                     var_name='group',value_name='wait_time')\n",
    "    \n",
    "    date_title = 'Predicted vs. Actual {0}-{1}-{2}'.format(m, d, y)\n",
    "    \n",
    "    return px.line(data_frame=plot_df, x='time', y='wait_time', color='group', title=date_title)"
   ]
  },
  {
   "cell_type": "code",
   "execution_count": 267,
   "metadata": {},
   "outputs": [
    {
     "data": {
      "application/vnd.plotly.v1+json": {
       "config": {
        "plotlyServerURL": "https://plot.ly"
       },
       "data": [
        {
         "hovertemplate": "group=pred<br>time=%{x}<br>wait_time=%{y}<extra></extra>",
         "legendgroup": "pred",
         "line": {
          "color": "#636efa",
          "dash": "solid"
         },
         "mode": "lines",
         "name": "pred",
         "orientation": "v",
         "showlegend": true,
         "type": "scatter",
         "x": [
          8.833,
          8.95,
          9.017,
          9.133,
          9.25,
          9.367,
          9.467,
          9.6,
          9.717,
          9.833,
          9.85,
          9.95,
          10.017,
          10.133,
          10.25,
          10.367,
          10.467,
          10.6,
          10.6,
          10.717,
          10.833,
          10.95,
          11.017,
          11.05,
          11.133,
          11.25,
          11.367,
          11.467,
          11.6,
          11.717,
          11.833,
          11.95,
          12.017,
          12.133,
          12.25,
          12.367,
          12.467,
          12.6,
          12.717,
          12.833,
          12.95,
          13.017,
          13.133,
          13.25,
          13.367,
          13.467,
          13.6,
          13.717,
          13.833,
          13.95,
          14.017,
          14.133,
          14.25,
          14.367,
          14.467,
          14.6,
          14.717,
          14.833,
          14.95,
          15.017,
          15.133,
          15.25,
          15.367,
          15.467,
          15.6,
          15.717,
          15.833,
          15.95,
          16.017,
          16.133,
          16.25,
          16.367,
          16.467,
          16.6,
          16.717,
          16.833,
          16.95,
          17.017,
          17.133,
          17.25,
          17.367,
          17.467,
          17.6,
          17.717,
          17.833,
          17.95,
          18.017,
          18.133,
          18.25,
          18.367,
          18.467,
          18.6,
          18.717,
          18.833,
          18.95,
          19.017,
          19.133,
          19.25,
          19.367,
          19.467,
          19.6,
          19.717,
          19.833,
          19.95,
          20.017,
          20.133,
          20.25,
          20.367,
          20.467,
          20.6,
          20.65,
          20.717,
          20.733,
          20.833,
          20.95,
          21.017,
          21.133,
          21.25,
          21.367,
          21.467,
          21.583,
          21.6,
          21.717,
          21.833,
          21.95,
          22.017,
          22.133,
          22.25,
          22.367,
          22.467,
          22.6,
          22.717,
          22.833,
          22.95,
          23.017
         ],
         "xaxis": "x",
         "y": [
          15,
          15,
          15,
          25,
          25,
          25,
          25,
          25,
          25,
          45,
          45,
          45,
          45,
          45,
          45,
          45,
          60,
          60,
          60,
          60,
          60,
          60,
          60,
          60,
          65,
          65,
          65,
          65,
          65,
          65,
          60,
          60,
          60,
          60,
          60,
          60,
          55,
          55,
          55,
          55,
          55,
          55,
          55,
          55,
          55,
          55,
          55,
          55,
          55,
          55,
          55,
          55,
          55,
          55,
          55,
          55,
          55,
          55,
          55,
          55,
          55,
          55,
          55,
          55,
          55,
          55,
          55,
          55,
          55,
          55,
          55,
          55,
          55,
          50,
          50,
          50,
          50,
          50,
          50,
          50,
          50,
          50,
          50,
          50,
          50,
          45,
          45,
          45,
          45,
          45,
          45,
          45,
          45,
          45,
          45,
          45,
          45,
          45,
          45,
          45,
          45,
          45,
          45,
          40,
          40,
          40,
          40,
          40,
          40,
          25,
          25,
          25,
          25,
          25,
          25,
          25,
          25,
          25,
          25,
          25,
          25,
          25,
          25,
          25,
          25,
          25,
          25,
          25,
          25,
          25,
          15,
          15,
          15,
          15,
          15
         ],
         "yaxis": "y"
        },
        {
         "hovertemplate": "group=actual<br>time=%{x}<br>wait_time=%{y}<extra></extra>",
         "legendgroup": "actual",
         "line": {
          "color": "#EF553B",
          "dash": "solid"
         },
         "mode": "lines",
         "name": "actual",
         "orientation": "v",
         "showlegend": true,
         "type": "scatter",
         "x": [
          8.833,
          8.95,
          9.017,
          9.133,
          9.25,
          9.367,
          9.467,
          9.6,
          9.717,
          9.833,
          9.85,
          9.95,
          10.017,
          10.133,
          10.25,
          10.367,
          10.467,
          10.6,
          10.6,
          10.717,
          10.833,
          10.95,
          11.017,
          11.05,
          11.133,
          11.25,
          11.367,
          11.467,
          11.6,
          11.717,
          11.833,
          11.95,
          12.017,
          12.133,
          12.25,
          12.367,
          12.467,
          12.6,
          12.717,
          12.833,
          12.95,
          13.017,
          13.133,
          13.25,
          13.367,
          13.467,
          13.6,
          13.717,
          13.833,
          13.95,
          14.017,
          14.133,
          14.25,
          14.367,
          14.467,
          14.6,
          14.717,
          14.833,
          14.95,
          15.017,
          15.133,
          15.25,
          15.367,
          15.467,
          15.6,
          15.717,
          15.833,
          15.95,
          16.017,
          16.133,
          16.25,
          16.367,
          16.467,
          16.6,
          16.717,
          16.833,
          16.95,
          17.017,
          17.133,
          17.25,
          17.367,
          17.467,
          17.6,
          17.717,
          17.833,
          17.95,
          18.017,
          18.133,
          18.25,
          18.367,
          18.467,
          18.6,
          18.717,
          18.833,
          18.95,
          19.017,
          19.133,
          19.25,
          19.367,
          19.467,
          19.6,
          19.717,
          19.833,
          19.95,
          20.017,
          20.133,
          20.25,
          20.367,
          20.467,
          20.6,
          20.65,
          20.717,
          20.733,
          20.833,
          20.95,
          21.017,
          21.133,
          21.25,
          21.367,
          21.467,
          21.583,
          21.6,
          21.717,
          21.833,
          21.95,
          22.017,
          22.133,
          22.25,
          22.367,
          22.467,
          22.6,
          22.717,
          22.833,
          22.95,
          23.017
         ],
         "xaxis": "x",
         "y": [
          10,
          10,
          10,
          15,
          20,
          15,
          25,
          25,
          30,
          45,
          45,
          40,
          40,
          40,
          50,
          70,
          65,
          65,
          65,
          65,
          50,
          45,
          45,
          45,
          50,
          50,
          55,
          45,
          40,
          40,
          65,
          65,
          65,
          60,
          60,
          60,
          55,
          55,
          55,
          55,
          55,
          60,
          55,
          55,
          45,
          40,
          45,
          45,
          45,
          65,
          85,
          95,
          50,
          50,
          50,
          60,
          50,
          50,
          50,
          60,
          60,
          45,
          45,
          45,
          50,
          50,
          60,
          50,
          50,
          50,
          45,
          45,
          40,
          45,
          45,
          50,
          40,
          45,
          45,
          45,
          45,
          45,
          50,
          40,
          40,
          35,
          35,
          45,
          45,
          50,
          45,
          35,
          35,
          35,
          35,
          35,
          45,
          45,
          45,
          40,
          45,
          45,
          40,
          35,
          35,
          35,
          30,
          35,
          35,
          25,
          25,
          25,
          20,
          20,
          20,
          10,
          10,
          10,
          10,
          20,
          20,
          20,
          15,
          15,
          15,
          15,
          10,
          10,
          5,
          5,
          5,
          5,
          5,
          5,
          5
         ],
         "yaxis": "y"
        }
       ],
       "layout": {
        "legend": {
         "title": {
          "text": "group"
         },
         "tracegroupgap": 0
        },
        "template": {
         "data": {
          "bar": [
           {
            "error_x": {
             "color": "#2a3f5f"
            },
            "error_y": {
             "color": "#2a3f5f"
            },
            "marker": {
             "line": {
              "color": "#E5ECF6",
              "width": 0.5
             }
            },
            "type": "bar"
           }
          ],
          "barpolar": [
           {
            "marker": {
             "line": {
              "color": "#E5ECF6",
              "width": 0.5
             }
            },
            "type": "barpolar"
           }
          ],
          "carpet": [
           {
            "aaxis": {
             "endlinecolor": "#2a3f5f",
             "gridcolor": "white",
             "linecolor": "white",
             "minorgridcolor": "white",
             "startlinecolor": "#2a3f5f"
            },
            "baxis": {
             "endlinecolor": "#2a3f5f",
             "gridcolor": "white",
             "linecolor": "white",
             "minorgridcolor": "white",
             "startlinecolor": "#2a3f5f"
            },
            "type": "carpet"
           }
          ],
          "choropleth": [
           {
            "colorbar": {
             "outlinewidth": 0,
             "ticks": ""
            },
            "type": "choropleth"
           }
          ],
          "contour": [
           {
            "colorbar": {
             "outlinewidth": 0,
             "ticks": ""
            },
            "colorscale": [
             [
              0,
              "#0d0887"
             ],
             [
              0.1111111111111111,
              "#46039f"
             ],
             [
              0.2222222222222222,
              "#7201a8"
             ],
             [
              0.3333333333333333,
              "#9c179e"
             ],
             [
              0.4444444444444444,
              "#bd3786"
             ],
             [
              0.5555555555555556,
              "#d8576b"
             ],
             [
              0.6666666666666666,
              "#ed7953"
             ],
             [
              0.7777777777777778,
              "#fb9f3a"
             ],
             [
              0.8888888888888888,
              "#fdca26"
             ],
             [
              1,
              "#f0f921"
             ]
            ],
            "type": "contour"
           }
          ],
          "contourcarpet": [
           {
            "colorbar": {
             "outlinewidth": 0,
             "ticks": ""
            },
            "type": "contourcarpet"
           }
          ],
          "heatmap": [
           {
            "colorbar": {
             "outlinewidth": 0,
             "ticks": ""
            },
            "colorscale": [
             [
              0,
              "#0d0887"
             ],
             [
              0.1111111111111111,
              "#46039f"
             ],
             [
              0.2222222222222222,
              "#7201a8"
             ],
             [
              0.3333333333333333,
              "#9c179e"
             ],
             [
              0.4444444444444444,
              "#bd3786"
             ],
             [
              0.5555555555555556,
              "#d8576b"
             ],
             [
              0.6666666666666666,
              "#ed7953"
             ],
             [
              0.7777777777777778,
              "#fb9f3a"
             ],
             [
              0.8888888888888888,
              "#fdca26"
             ],
             [
              1,
              "#f0f921"
             ]
            ],
            "type": "heatmap"
           }
          ],
          "heatmapgl": [
           {
            "colorbar": {
             "outlinewidth": 0,
             "ticks": ""
            },
            "colorscale": [
             [
              0,
              "#0d0887"
             ],
             [
              0.1111111111111111,
              "#46039f"
             ],
             [
              0.2222222222222222,
              "#7201a8"
             ],
             [
              0.3333333333333333,
              "#9c179e"
             ],
             [
              0.4444444444444444,
              "#bd3786"
             ],
             [
              0.5555555555555556,
              "#d8576b"
             ],
             [
              0.6666666666666666,
              "#ed7953"
             ],
             [
              0.7777777777777778,
              "#fb9f3a"
             ],
             [
              0.8888888888888888,
              "#fdca26"
             ],
             [
              1,
              "#f0f921"
             ]
            ],
            "type": "heatmapgl"
           }
          ],
          "histogram": [
           {
            "marker": {
             "colorbar": {
              "outlinewidth": 0,
              "ticks": ""
             }
            },
            "type": "histogram"
           }
          ],
          "histogram2d": [
           {
            "colorbar": {
             "outlinewidth": 0,
             "ticks": ""
            },
            "colorscale": [
             [
              0,
              "#0d0887"
             ],
             [
              0.1111111111111111,
              "#46039f"
             ],
             [
              0.2222222222222222,
              "#7201a8"
             ],
             [
              0.3333333333333333,
              "#9c179e"
             ],
             [
              0.4444444444444444,
              "#bd3786"
             ],
             [
              0.5555555555555556,
              "#d8576b"
             ],
             [
              0.6666666666666666,
              "#ed7953"
             ],
             [
              0.7777777777777778,
              "#fb9f3a"
             ],
             [
              0.8888888888888888,
              "#fdca26"
             ],
             [
              1,
              "#f0f921"
             ]
            ],
            "type": "histogram2d"
           }
          ],
          "histogram2dcontour": [
           {
            "colorbar": {
             "outlinewidth": 0,
             "ticks": ""
            },
            "colorscale": [
             [
              0,
              "#0d0887"
             ],
             [
              0.1111111111111111,
              "#46039f"
             ],
             [
              0.2222222222222222,
              "#7201a8"
             ],
             [
              0.3333333333333333,
              "#9c179e"
             ],
             [
              0.4444444444444444,
              "#bd3786"
             ],
             [
              0.5555555555555556,
              "#d8576b"
             ],
             [
              0.6666666666666666,
              "#ed7953"
             ],
             [
              0.7777777777777778,
              "#fb9f3a"
             ],
             [
              0.8888888888888888,
              "#fdca26"
             ],
             [
              1,
              "#f0f921"
             ]
            ],
            "type": "histogram2dcontour"
           }
          ],
          "mesh3d": [
           {
            "colorbar": {
             "outlinewidth": 0,
             "ticks": ""
            },
            "type": "mesh3d"
           }
          ],
          "parcoords": [
           {
            "line": {
             "colorbar": {
              "outlinewidth": 0,
              "ticks": ""
             }
            },
            "type": "parcoords"
           }
          ],
          "pie": [
           {
            "automargin": true,
            "type": "pie"
           }
          ],
          "scatter": [
           {
            "marker": {
             "colorbar": {
              "outlinewidth": 0,
              "ticks": ""
             }
            },
            "type": "scatter"
           }
          ],
          "scatter3d": [
           {
            "line": {
             "colorbar": {
              "outlinewidth": 0,
              "ticks": ""
             }
            },
            "marker": {
             "colorbar": {
              "outlinewidth": 0,
              "ticks": ""
             }
            },
            "type": "scatter3d"
           }
          ],
          "scattercarpet": [
           {
            "marker": {
             "colorbar": {
              "outlinewidth": 0,
              "ticks": ""
             }
            },
            "type": "scattercarpet"
           }
          ],
          "scattergeo": [
           {
            "marker": {
             "colorbar": {
              "outlinewidth": 0,
              "ticks": ""
             }
            },
            "type": "scattergeo"
           }
          ],
          "scattergl": [
           {
            "marker": {
             "colorbar": {
              "outlinewidth": 0,
              "ticks": ""
             }
            },
            "type": "scattergl"
           }
          ],
          "scattermapbox": [
           {
            "marker": {
             "colorbar": {
              "outlinewidth": 0,
              "ticks": ""
             }
            },
            "type": "scattermapbox"
           }
          ],
          "scatterpolar": [
           {
            "marker": {
             "colorbar": {
              "outlinewidth": 0,
              "ticks": ""
             }
            },
            "type": "scatterpolar"
           }
          ],
          "scatterpolargl": [
           {
            "marker": {
             "colorbar": {
              "outlinewidth": 0,
              "ticks": ""
             }
            },
            "type": "scatterpolargl"
           }
          ],
          "scatterternary": [
           {
            "marker": {
             "colorbar": {
              "outlinewidth": 0,
              "ticks": ""
             }
            },
            "type": "scatterternary"
           }
          ],
          "surface": [
           {
            "colorbar": {
             "outlinewidth": 0,
             "ticks": ""
            },
            "colorscale": [
             [
              0,
              "#0d0887"
             ],
             [
              0.1111111111111111,
              "#46039f"
             ],
             [
              0.2222222222222222,
              "#7201a8"
             ],
             [
              0.3333333333333333,
              "#9c179e"
             ],
             [
              0.4444444444444444,
              "#bd3786"
             ],
             [
              0.5555555555555556,
              "#d8576b"
             ],
             [
              0.6666666666666666,
              "#ed7953"
             ],
             [
              0.7777777777777778,
              "#fb9f3a"
             ],
             [
              0.8888888888888888,
              "#fdca26"
             ],
             [
              1,
              "#f0f921"
             ]
            ],
            "type": "surface"
           }
          ],
          "table": [
           {
            "cells": {
             "fill": {
              "color": "#EBF0F8"
             },
             "line": {
              "color": "white"
             }
            },
            "header": {
             "fill": {
              "color": "#C8D4E3"
             },
             "line": {
              "color": "white"
             }
            },
            "type": "table"
           }
          ]
         },
         "layout": {
          "annotationdefaults": {
           "arrowcolor": "#2a3f5f",
           "arrowhead": 0,
           "arrowwidth": 1
          },
          "coloraxis": {
           "colorbar": {
            "outlinewidth": 0,
            "ticks": ""
           }
          },
          "colorscale": {
           "diverging": [
            [
             0,
             "#8e0152"
            ],
            [
             0.1,
             "#c51b7d"
            ],
            [
             0.2,
             "#de77ae"
            ],
            [
             0.3,
             "#f1b6da"
            ],
            [
             0.4,
             "#fde0ef"
            ],
            [
             0.5,
             "#f7f7f7"
            ],
            [
             0.6,
             "#e6f5d0"
            ],
            [
             0.7,
             "#b8e186"
            ],
            [
             0.8,
             "#7fbc41"
            ],
            [
             0.9,
             "#4d9221"
            ],
            [
             1,
             "#276419"
            ]
           ],
           "sequential": [
            [
             0,
             "#0d0887"
            ],
            [
             0.1111111111111111,
             "#46039f"
            ],
            [
             0.2222222222222222,
             "#7201a8"
            ],
            [
             0.3333333333333333,
             "#9c179e"
            ],
            [
             0.4444444444444444,
             "#bd3786"
            ],
            [
             0.5555555555555556,
             "#d8576b"
            ],
            [
             0.6666666666666666,
             "#ed7953"
            ],
            [
             0.7777777777777778,
             "#fb9f3a"
            ],
            [
             0.8888888888888888,
             "#fdca26"
            ],
            [
             1,
             "#f0f921"
            ]
           ],
           "sequentialminus": [
            [
             0,
             "#0d0887"
            ],
            [
             0.1111111111111111,
             "#46039f"
            ],
            [
             0.2222222222222222,
             "#7201a8"
            ],
            [
             0.3333333333333333,
             "#9c179e"
            ],
            [
             0.4444444444444444,
             "#bd3786"
            ],
            [
             0.5555555555555556,
             "#d8576b"
            ],
            [
             0.6666666666666666,
             "#ed7953"
            ],
            [
             0.7777777777777778,
             "#fb9f3a"
            ],
            [
             0.8888888888888888,
             "#fdca26"
            ],
            [
             1,
             "#f0f921"
            ]
           ]
          },
          "colorway": [
           "#636efa",
           "#EF553B",
           "#00cc96",
           "#ab63fa",
           "#FFA15A",
           "#19d3f3",
           "#FF6692",
           "#B6E880",
           "#FF97FF",
           "#FECB52"
          ],
          "font": {
           "color": "#2a3f5f"
          },
          "geo": {
           "bgcolor": "white",
           "lakecolor": "white",
           "landcolor": "#E5ECF6",
           "showlakes": true,
           "showland": true,
           "subunitcolor": "white"
          },
          "hoverlabel": {
           "align": "left"
          },
          "hovermode": "closest",
          "mapbox": {
           "style": "light"
          },
          "paper_bgcolor": "white",
          "plot_bgcolor": "#E5ECF6",
          "polar": {
           "angularaxis": {
            "gridcolor": "white",
            "linecolor": "white",
            "ticks": ""
           },
           "bgcolor": "#E5ECF6",
           "radialaxis": {
            "gridcolor": "white",
            "linecolor": "white",
            "ticks": ""
           }
          },
          "scene": {
           "xaxis": {
            "backgroundcolor": "#E5ECF6",
            "gridcolor": "white",
            "gridwidth": 2,
            "linecolor": "white",
            "showbackground": true,
            "ticks": "",
            "zerolinecolor": "white"
           },
           "yaxis": {
            "backgroundcolor": "#E5ECF6",
            "gridcolor": "white",
            "gridwidth": 2,
            "linecolor": "white",
            "showbackground": true,
            "ticks": "",
            "zerolinecolor": "white"
           },
           "zaxis": {
            "backgroundcolor": "#E5ECF6",
            "gridcolor": "white",
            "gridwidth": 2,
            "linecolor": "white",
            "showbackground": true,
            "ticks": "",
            "zerolinecolor": "white"
           }
          },
          "shapedefaults": {
           "line": {
            "color": "#2a3f5f"
           }
          },
          "ternary": {
           "aaxis": {
            "gridcolor": "white",
            "linecolor": "white",
            "ticks": ""
           },
           "baxis": {
            "gridcolor": "white",
            "linecolor": "white",
            "ticks": ""
           },
           "bgcolor": "#E5ECF6",
           "caxis": {
            "gridcolor": "white",
            "linecolor": "white",
            "ticks": ""
           }
          },
          "title": {
           "x": 0.05
          },
          "xaxis": {
           "automargin": true,
           "gridcolor": "white",
           "linecolor": "white",
           "ticks": "",
           "title": {
            "standoff": 15
           },
           "zerolinecolor": "white",
           "zerolinewidth": 2
          },
          "yaxis": {
           "automargin": true,
           "gridcolor": "white",
           "linecolor": "white",
           "ticks": "",
           "title": {
            "standoff": 15
           },
           "zerolinecolor": "white",
           "zerolinewidth": 2
          }
         }
        },
        "title": {
         "text": "Predicted vs. Actual 4-17-2018"
        },
        "xaxis": {
         "anchor": "y",
         "domain": [
          0,
          1
         ],
         "title": {
          "text": "time"
         }
        },
        "yaxis": {
         "anchor": "x",
         "domain": [
          0,
          1
         ],
         "title": {
          "text": "wait_time"
         }
        }
       }
      },
      "text/html": [
       "<div>                            <div id=\"9a4bdd25-72f1-4a35-b094-08a5e66350fc\" class=\"plotly-graph-div\" style=\"height:525px; width:100%;\"></div>            <script type=\"text/javascript\">                require([\"plotly\"], function(Plotly) {                    window.PLOTLYENV=window.PLOTLYENV || {};                                    if (document.getElementById(\"9a4bdd25-72f1-4a35-b094-08a5e66350fc\")) {                    Plotly.newPlot(                        \"9a4bdd25-72f1-4a35-b094-08a5e66350fc\",                        [{\"hovertemplate\": \"group=pred<br>time=%{x}<br>wait_time=%{y}<extra></extra>\", \"legendgroup\": \"pred\", \"line\": {\"color\": \"#636efa\", \"dash\": \"solid\"}, \"mode\": \"lines\", \"name\": \"pred\", \"orientation\": \"v\", \"showlegend\": true, \"type\": \"scatter\", \"x\": [8.833, 8.95, 9.017, 9.133, 9.25, 9.367, 9.467, 9.6, 9.717, 9.833, 9.85, 9.95, 10.017, 10.133, 10.25, 10.367, 10.467, 10.6, 10.6, 10.717, 10.833, 10.95, 11.017, 11.05, 11.133, 11.25, 11.367, 11.467, 11.6, 11.717, 11.833, 11.95, 12.017, 12.133, 12.25, 12.367, 12.467, 12.6, 12.717, 12.833, 12.95, 13.017, 13.133, 13.25, 13.367, 13.467, 13.6, 13.717, 13.833, 13.95, 14.017, 14.133, 14.25, 14.367, 14.467, 14.6, 14.717, 14.833, 14.95, 15.017, 15.133, 15.25, 15.367, 15.467, 15.6, 15.717, 15.833, 15.95, 16.017, 16.133, 16.25, 16.367, 16.467, 16.6, 16.717, 16.833, 16.95, 17.017, 17.133, 17.25, 17.367, 17.467, 17.6, 17.717, 17.833, 17.95, 18.017, 18.133, 18.25, 18.367, 18.467, 18.6, 18.717, 18.833, 18.95, 19.017, 19.133, 19.25, 19.367, 19.467, 19.6, 19.717, 19.833, 19.95, 20.017, 20.133, 20.25, 20.367, 20.467, 20.6, 20.65, 20.717, 20.733, 20.833, 20.95, 21.017, 21.133, 21.25, 21.367, 21.467, 21.583, 21.6, 21.717, 21.833, 21.95, 22.017, 22.133, 22.25, 22.367, 22.467, 22.6, 22.717, 22.833, 22.95, 23.017], \"xaxis\": \"x\", \"y\": [15.0, 15.0, 15.0, 25.0, 25.0, 25.0, 25.0, 25.0, 25.0, 45.0, 45.0, 45.0, 45.0, 45.0, 45.0, 45.0, 60.0, 60.0, 60.0, 60.0, 60.0, 60.0, 60.0, 60.0, 65.0, 65.0, 65.0, 65.0, 65.0, 65.0, 60.0, 60.0, 60.0, 60.0, 60.0, 60.0, 55.0, 55.0, 55.0, 55.0, 55.0, 55.0, 55.0, 55.0, 55.0, 55.0, 55.0, 55.0, 55.0, 55.0, 55.0, 55.0, 55.0, 55.0, 55.0, 55.0, 55.0, 55.0, 55.0, 55.0, 55.0, 55.0, 55.0, 55.0, 55.0, 55.0, 55.0, 55.0, 55.0, 55.0, 55.0, 55.0, 55.0, 50.0, 50.0, 50.0, 50.0, 50.0, 50.0, 50.0, 50.0, 50.0, 50.0, 50.0, 50.0, 45.0, 45.0, 45.0, 45.0, 45.0, 45.0, 45.0, 45.0, 45.0, 45.0, 45.0, 45.0, 45.0, 45.0, 45.0, 45.0, 45.0, 45.0, 40.0, 40.0, 40.0, 40.0, 40.0, 40.0, 25.0, 25.0, 25.0, 25.0, 25.0, 25.0, 25.0, 25.0, 25.0, 25.0, 25.0, 25.0, 25.0, 25.0, 25.0, 25.0, 25.0, 25.0, 25.0, 25.0, 25.0, 15.0, 15.0, 15.0, 15.0, 15.0], \"yaxis\": \"y\"}, {\"hovertemplate\": \"group=actual<br>time=%{x}<br>wait_time=%{y}<extra></extra>\", \"legendgroup\": \"actual\", \"line\": {\"color\": \"#EF553B\", \"dash\": \"solid\"}, \"mode\": \"lines\", \"name\": \"actual\", \"orientation\": \"v\", \"showlegend\": true, \"type\": \"scatter\", \"x\": [8.833, 8.95, 9.017, 9.133, 9.25, 9.367, 9.467, 9.6, 9.717, 9.833, 9.85, 9.95, 10.017, 10.133, 10.25, 10.367, 10.467, 10.6, 10.6, 10.717, 10.833, 10.95, 11.017, 11.05, 11.133, 11.25, 11.367, 11.467, 11.6, 11.717, 11.833, 11.95, 12.017, 12.133, 12.25, 12.367, 12.467, 12.6, 12.717, 12.833, 12.95, 13.017, 13.133, 13.25, 13.367, 13.467, 13.6, 13.717, 13.833, 13.95, 14.017, 14.133, 14.25, 14.367, 14.467, 14.6, 14.717, 14.833, 14.95, 15.017, 15.133, 15.25, 15.367, 15.467, 15.6, 15.717, 15.833, 15.95, 16.017, 16.133, 16.25, 16.367, 16.467, 16.6, 16.717, 16.833, 16.95, 17.017, 17.133, 17.25, 17.367, 17.467, 17.6, 17.717, 17.833, 17.95, 18.017, 18.133, 18.25, 18.367, 18.467, 18.6, 18.717, 18.833, 18.95, 19.017, 19.133, 19.25, 19.367, 19.467, 19.6, 19.717, 19.833, 19.95, 20.017, 20.133, 20.25, 20.367, 20.467, 20.6, 20.65, 20.717, 20.733, 20.833, 20.95, 21.017, 21.133, 21.25, 21.367, 21.467, 21.583, 21.6, 21.717, 21.833, 21.95, 22.017, 22.133, 22.25, 22.367, 22.467, 22.6, 22.717, 22.833, 22.95, 23.017], \"xaxis\": \"x\", \"y\": [10.0, 10.0, 10.0, 15.0, 20.0, 15.0, 25.0, 25.0, 30.0, 45.0, 45.0, 40.0, 40.0, 40.0, 50.0, 70.0, 65.0, 65.0, 65.0, 65.0, 50.0, 45.0, 45.0, 45.0, 50.0, 50.0, 55.0, 45.0, 40.0, 40.0, 65.0, 65.0, 65.0, 60.0, 60.0, 60.0, 55.0, 55.0, 55.0, 55.0, 55.0, 60.0, 55.0, 55.0, 45.0, 40.0, 45.0, 45.0, 45.0, 65.0, 85.0, 95.0, 50.0, 50.0, 50.0, 60.0, 50.0, 50.0, 50.0, 60.0, 60.0, 45.0, 45.0, 45.0, 50.0, 50.0, 60.0, 50.0, 50.0, 50.0, 45.0, 45.0, 40.0, 45.0, 45.0, 50.0, 40.0, 45.0, 45.0, 45.0, 45.0, 45.0, 50.0, 40.0, 40.0, 35.0, 35.0, 45.0, 45.0, 50.0, 45.0, 35.0, 35.0, 35.0, 35.0, 35.0, 45.0, 45.0, 45.0, 40.0, 45.0, 45.0, 40.0, 35.0, 35.0, 35.0, 30.0, 35.0, 35.0, 25.0, 25.0, 25.0, 20.0, 20.0, 20.0, 10.0, 10.0, 10.0, 10.0, 20.0, 20.0, 20.0, 15.0, 15.0, 15.0, 15.0, 10.0, 10.0, 5.0, 5.0, 5.0, 5.0, 5.0, 5.0, 5.0], \"yaxis\": \"y\"}],                        {\"legend\": {\"title\": {\"text\": \"group\"}, \"tracegroupgap\": 0}, \"template\": {\"data\": {\"bar\": [{\"error_x\": {\"color\": \"#2a3f5f\"}, \"error_y\": {\"color\": \"#2a3f5f\"}, \"marker\": {\"line\": {\"color\": \"#E5ECF6\", \"width\": 0.5}}, \"type\": \"bar\"}], \"barpolar\": [{\"marker\": {\"line\": {\"color\": \"#E5ECF6\", \"width\": 0.5}}, \"type\": \"barpolar\"}], \"carpet\": [{\"aaxis\": {\"endlinecolor\": \"#2a3f5f\", \"gridcolor\": \"white\", \"linecolor\": \"white\", \"minorgridcolor\": \"white\", \"startlinecolor\": \"#2a3f5f\"}, \"baxis\": {\"endlinecolor\": \"#2a3f5f\", \"gridcolor\": \"white\", \"linecolor\": \"white\", \"minorgridcolor\": \"white\", \"startlinecolor\": \"#2a3f5f\"}, \"type\": \"carpet\"}], \"choropleth\": [{\"colorbar\": {\"outlinewidth\": 0, \"ticks\": \"\"}, \"type\": \"choropleth\"}], \"contour\": [{\"colorbar\": {\"outlinewidth\": 0, \"ticks\": \"\"}, \"colorscale\": [[0.0, \"#0d0887\"], [0.1111111111111111, \"#46039f\"], [0.2222222222222222, \"#7201a8\"], [0.3333333333333333, \"#9c179e\"], [0.4444444444444444, \"#bd3786\"], [0.5555555555555556, \"#d8576b\"], [0.6666666666666666, \"#ed7953\"], [0.7777777777777778, \"#fb9f3a\"], [0.8888888888888888, \"#fdca26\"], [1.0, \"#f0f921\"]], \"type\": \"contour\"}], \"contourcarpet\": [{\"colorbar\": {\"outlinewidth\": 0, \"ticks\": \"\"}, \"type\": \"contourcarpet\"}], \"heatmap\": [{\"colorbar\": {\"outlinewidth\": 0, \"ticks\": \"\"}, \"colorscale\": [[0.0, \"#0d0887\"], [0.1111111111111111, \"#46039f\"], [0.2222222222222222, \"#7201a8\"], [0.3333333333333333, \"#9c179e\"], [0.4444444444444444, \"#bd3786\"], [0.5555555555555556, \"#d8576b\"], [0.6666666666666666, \"#ed7953\"], [0.7777777777777778, \"#fb9f3a\"], [0.8888888888888888, \"#fdca26\"], [1.0, \"#f0f921\"]], \"type\": \"heatmap\"}], \"heatmapgl\": [{\"colorbar\": {\"outlinewidth\": 0, \"ticks\": \"\"}, \"colorscale\": [[0.0, \"#0d0887\"], [0.1111111111111111, \"#46039f\"], [0.2222222222222222, \"#7201a8\"], [0.3333333333333333, \"#9c179e\"], [0.4444444444444444, \"#bd3786\"], [0.5555555555555556, \"#d8576b\"], [0.6666666666666666, \"#ed7953\"], [0.7777777777777778, \"#fb9f3a\"], [0.8888888888888888, \"#fdca26\"], [1.0, \"#f0f921\"]], \"type\": \"heatmapgl\"}], \"histogram\": [{\"marker\": {\"colorbar\": {\"outlinewidth\": 0, \"ticks\": \"\"}}, \"type\": \"histogram\"}], \"histogram2d\": [{\"colorbar\": {\"outlinewidth\": 0, \"ticks\": \"\"}, \"colorscale\": [[0.0, \"#0d0887\"], [0.1111111111111111, \"#46039f\"], [0.2222222222222222, \"#7201a8\"], [0.3333333333333333, \"#9c179e\"], [0.4444444444444444, \"#bd3786\"], [0.5555555555555556, \"#d8576b\"], [0.6666666666666666, \"#ed7953\"], [0.7777777777777778, \"#fb9f3a\"], [0.8888888888888888, \"#fdca26\"], [1.0, \"#f0f921\"]], \"type\": \"histogram2d\"}], \"histogram2dcontour\": [{\"colorbar\": {\"outlinewidth\": 0, \"ticks\": \"\"}, \"colorscale\": [[0.0, \"#0d0887\"], [0.1111111111111111, \"#46039f\"], [0.2222222222222222, \"#7201a8\"], [0.3333333333333333, \"#9c179e\"], [0.4444444444444444, \"#bd3786\"], [0.5555555555555556, \"#d8576b\"], [0.6666666666666666, \"#ed7953\"], [0.7777777777777778, \"#fb9f3a\"], [0.8888888888888888, \"#fdca26\"], [1.0, \"#f0f921\"]], \"type\": \"histogram2dcontour\"}], \"mesh3d\": [{\"colorbar\": {\"outlinewidth\": 0, \"ticks\": \"\"}, \"type\": \"mesh3d\"}], \"parcoords\": [{\"line\": {\"colorbar\": {\"outlinewidth\": 0, \"ticks\": \"\"}}, \"type\": \"parcoords\"}], \"pie\": [{\"automargin\": true, \"type\": \"pie\"}], \"scatter\": [{\"marker\": {\"colorbar\": {\"outlinewidth\": 0, \"ticks\": \"\"}}, \"type\": \"scatter\"}], \"scatter3d\": [{\"line\": {\"colorbar\": {\"outlinewidth\": 0, \"ticks\": \"\"}}, \"marker\": {\"colorbar\": {\"outlinewidth\": 0, \"ticks\": \"\"}}, \"type\": \"scatter3d\"}], \"scattercarpet\": [{\"marker\": {\"colorbar\": {\"outlinewidth\": 0, \"ticks\": \"\"}}, \"type\": \"scattercarpet\"}], \"scattergeo\": [{\"marker\": {\"colorbar\": {\"outlinewidth\": 0, \"ticks\": \"\"}}, \"type\": \"scattergeo\"}], \"scattergl\": [{\"marker\": {\"colorbar\": {\"outlinewidth\": 0, \"ticks\": \"\"}}, \"type\": \"scattergl\"}], \"scattermapbox\": [{\"marker\": {\"colorbar\": {\"outlinewidth\": 0, \"ticks\": \"\"}}, \"type\": \"scattermapbox\"}], \"scatterpolar\": [{\"marker\": {\"colorbar\": {\"outlinewidth\": 0, \"ticks\": \"\"}}, \"type\": \"scatterpolar\"}], \"scatterpolargl\": [{\"marker\": {\"colorbar\": {\"outlinewidth\": 0, \"ticks\": \"\"}}, \"type\": \"scatterpolargl\"}], \"scatterternary\": [{\"marker\": {\"colorbar\": {\"outlinewidth\": 0, \"ticks\": \"\"}}, \"type\": \"scatterternary\"}], \"surface\": [{\"colorbar\": {\"outlinewidth\": 0, \"ticks\": \"\"}, \"colorscale\": [[0.0, \"#0d0887\"], [0.1111111111111111, \"#46039f\"], [0.2222222222222222, \"#7201a8\"], [0.3333333333333333, \"#9c179e\"], [0.4444444444444444, \"#bd3786\"], [0.5555555555555556, \"#d8576b\"], [0.6666666666666666, \"#ed7953\"], [0.7777777777777778, \"#fb9f3a\"], [0.8888888888888888, \"#fdca26\"], [1.0, \"#f0f921\"]], \"type\": \"surface\"}], \"table\": [{\"cells\": {\"fill\": {\"color\": \"#EBF0F8\"}, \"line\": {\"color\": \"white\"}}, \"header\": {\"fill\": {\"color\": \"#C8D4E3\"}, \"line\": {\"color\": \"white\"}}, \"type\": \"table\"}]}, \"layout\": {\"annotationdefaults\": {\"arrowcolor\": \"#2a3f5f\", \"arrowhead\": 0, \"arrowwidth\": 1}, \"coloraxis\": {\"colorbar\": {\"outlinewidth\": 0, \"ticks\": \"\"}}, \"colorscale\": {\"diverging\": [[0, \"#8e0152\"], [0.1, \"#c51b7d\"], [0.2, \"#de77ae\"], [0.3, \"#f1b6da\"], [0.4, \"#fde0ef\"], [0.5, \"#f7f7f7\"], [0.6, \"#e6f5d0\"], [0.7, \"#b8e186\"], [0.8, \"#7fbc41\"], [0.9, \"#4d9221\"], [1, \"#276419\"]], \"sequential\": [[0.0, \"#0d0887\"], [0.1111111111111111, \"#46039f\"], [0.2222222222222222, \"#7201a8\"], [0.3333333333333333, \"#9c179e\"], [0.4444444444444444, \"#bd3786\"], [0.5555555555555556, \"#d8576b\"], [0.6666666666666666, \"#ed7953\"], [0.7777777777777778, \"#fb9f3a\"], [0.8888888888888888, \"#fdca26\"], [1.0, \"#f0f921\"]], \"sequentialminus\": [[0.0, \"#0d0887\"], [0.1111111111111111, \"#46039f\"], [0.2222222222222222, \"#7201a8\"], [0.3333333333333333, \"#9c179e\"], [0.4444444444444444, \"#bd3786\"], [0.5555555555555556, \"#d8576b\"], [0.6666666666666666, \"#ed7953\"], [0.7777777777777778, \"#fb9f3a\"], [0.8888888888888888, \"#fdca26\"], [1.0, \"#f0f921\"]]}, \"colorway\": [\"#636efa\", \"#EF553B\", \"#00cc96\", \"#ab63fa\", \"#FFA15A\", \"#19d3f3\", \"#FF6692\", \"#B6E880\", \"#FF97FF\", \"#FECB52\"], \"font\": {\"color\": \"#2a3f5f\"}, \"geo\": {\"bgcolor\": \"white\", \"lakecolor\": \"white\", \"landcolor\": \"#E5ECF6\", \"showlakes\": true, \"showland\": true, \"subunitcolor\": \"white\"}, \"hoverlabel\": {\"align\": \"left\"}, \"hovermode\": \"closest\", \"mapbox\": {\"style\": \"light\"}, \"paper_bgcolor\": \"white\", \"plot_bgcolor\": \"#E5ECF6\", \"polar\": {\"angularaxis\": {\"gridcolor\": \"white\", \"linecolor\": \"white\", \"ticks\": \"\"}, \"bgcolor\": \"#E5ECF6\", \"radialaxis\": {\"gridcolor\": \"white\", \"linecolor\": \"white\", \"ticks\": \"\"}}, \"scene\": {\"xaxis\": {\"backgroundcolor\": \"#E5ECF6\", \"gridcolor\": \"white\", \"gridwidth\": 2, \"linecolor\": \"white\", \"showbackground\": true, \"ticks\": \"\", \"zerolinecolor\": \"white\"}, \"yaxis\": {\"backgroundcolor\": \"#E5ECF6\", \"gridcolor\": \"white\", \"gridwidth\": 2, \"linecolor\": \"white\", \"showbackground\": true, \"ticks\": \"\", \"zerolinecolor\": \"white\"}, \"zaxis\": {\"backgroundcolor\": \"#E5ECF6\", \"gridcolor\": \"white\", \"gridwidth\": 2, \"linecolor\": \"white\", \"showbackground\": true, \"ticks\": \"\", \"zerolinecolor\": \"white\"}}, \"shapedefaults\": {\"line\": {\"color\": \"#2a3f5f\"}}, \"ternary\": {\"aaxis\": {\"gridcolor\": \"white\", \"linecolor\": \"white\", \"ticks\": \"\"}, \"baxis\": {\"gridcolor\": \"white\", \"linecolor\": \"white\", \"ticks\": \"\"}, \"bgcolor\": \"#E5ECF6\", \"caxis\": {\"gridcolor\": \"white\", \"linecolor\": \"white\", \"ticks\": \"\"}}, \"title\": {\"x\": 0.05}, \"xaxis\": {\"automargin\": true, \"gridcolor\": \"white\", \"linecolor\": \"white\", \"ticks\": \"\", \"title\": {\"standoff\": 15}, \"zerolinecolor\": \"white\", \"zerolinewidth\": 2}, \"yaxis\": {\"automargin\": true, \"gridcolor\": \"white\", \"linecolor\": \"white\", \"ticks\": \"\", \"title\": {\"standoff\": 15}, \"zerolinecolor\": \"white\", \"zerolinewidth\": 2}}}, \"title\": {\"text\": \"Predicted vs. Actual 4-17-2018\"}, \"xaxis\": {\"anchor\": \"y\", \"domain\": [0.0, 1.0], \"title\": {\"text\": \"time\"}}, \"yaxis\": {\"anchor\": \"x\", \"domain\": [0.0, 1.0], \"title\": {\"text\": \"wait_time\"}}},                        {\"responsive\": true}                    ).then(function(){\n",
       "                            \n",
       "var gd = document.getElementById('9a4bdd25-72f1-4a35-b094-08a5e66350fc');\n",
       "var x = new MutationObserver(function (mutations, observer) {{\n",
       "        var display = window.getComputedStyle(gd).display;\n",
       "        if (!display || display === 'none') {{\n",
       "            console.log([gd, 'removed!']);\n",
       "            Plotly.purge(gd);\n",
       "            observer.disconnect();\n",
       "        }}\n",
       "}});\n",
       "\n",
       "// Listen for the removal of the full notebook cells\n",
       "var notebookContainer = gd.closest('#notebook-container');\n",
       "if (notebookContainer) {{\n",
       "    x.observe(notebookContainer, {childList: true});\n",
       "}}\n",
       "\n",
       "// Listen for the clearing of the current output cell\n",
       "var outputEl = gd.closest('.output');\n",
       "if (outputEl) {{\n",
       "    x.observe(outputEl, {childList: true});\n",
       "}}\n",
       "\n",
       "                        })                };                });            </script>        </div>"
      ]
     },
     "metadata": {},
     "output_type": "display_data"
    }
   ],
   "source": [
    "p = plot_actual_vs_pred(2018, 4, 17)\n",
    "p"
   ]
  },
  {
   "cell_type": "code",
   "execution_count": null,
   "metadata": {},
   "outputs": [],
   "source": []
  }
 ],
 "metadata": {
  "kernelspec": {
   "display_name": "Python 3",
   "language": "python",
   "name": "python3"
  },
  "language_info": {
   "codemirror_mode": {
    "name": "ipython",
    "version": 3
   },
   "file_extension": ".py",
   "mimetype": "text/x-python",
   "name": "python",
   "nbconvert_exporter": "python",
   "pygments_lexer": "ipython3",
   "version": "3.8.3"
  }
 },
 "nbformat": 4,
 "nbformat_minor": 4
}
