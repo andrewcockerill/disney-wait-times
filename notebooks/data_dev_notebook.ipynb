{
 "cells": [
  {
   "cell_type": "markdown",
   "metadata": {},
   "source": [
    "### Data Acquisition Development Notebook\n",
    "Notebook for testing functions to download, transform, and store datasets needed for analysis and modeling"
   ]
  },
  {
   "cell_type": "markdown",
   "metadata": {},
   "source": [
    "#### Wait Times"
   ]
  },
  {
   "cell_type": "code",
   "execution_count": 2,
   "metadata": {},
   "outputs": [],
   "source": [
    "# Packages\n",
    "import numpy as np\n",
    "import pandas as pd\n",
    "import holidays\n",
    "from datetime import date\n",
    "import calendar"
   ]
  },
  {
   "cell_type": "code",
   "execution_count": 7,
   "metadata": {},
   "outputs": [],
   "source": [
    "# Function to download and transform a single wait time dataset from TouringPlans\n",
    "\n",
    "def fetch_wait_times(url, attraction_name):\n",
    "    \"\"\"Retrieves and formats an attraction wait time dataset from public .csvs made available\n",
    "    by TouringPlans (https://touringplans.com/walt-disney-world/crowd-calendar#DataSets). Output\n",
    "    dataset is transformed to provide pertinent time data and wait times. Missing data is not handled\n",
    "    at this point.\n",
    "    \n",
    "    Args:\n",
    "        url : string\n",
    "            The URL of the dataset\n",
    "            \n",
    "        ride_name : string\n",
    "            Description of the ride\n",
    "            \n",
    "    Returns:\n",
    "        wait_times : DataFrame\n",
    "            The prepared data frame with columns \n",
    "            \n",
    "            ['attraction_name',\n",
    "            'month_of_year',\n",
    "            'hour_of_day',\n",
    "            'year_of_calendar',\n",
    "            'wait_time']\n",
    "    \"\"\"\n",
    "    \n",
    "    # Read in the csv file\n",
    "    wait_times = pd.read_csv(\n",
    "        url,\n",
    "        usecols=['datetime','SACTMIN','SPOSTMIN'],\n",
    "        dtype={'datetime':str,'SACTMIN':np.float64,'SPOSTMIN':np.float64}\n",
    "    )\n",
    "    \n",
    "    # Transforms for date elements\n",
    "    wait_times.loc[:,'datetime'] = pd.to_datetime(wait_times.datetime, format='%Y-%m-%d %H:%M:%S')\n",
    "    wait_times['month_of_year'] = wait_times.datetime.dt.month\n",
    "    wait_times['hour_of_day'] = wait_times.datetime.dt.hour\n",
    "    wait_times['minute_of_day'] = wait_times.datetime.dt.minute\n",
    "    wait_times['year_of_calendar'] = wait_times.datetime.dt.year\n",
    "    wait_times['date_id'] = wait_times.datetime.dt.date\n",
    "    \n",
    "    # Wait time coalesce (use the actual time if available)\n",
    "    wait_times['wait_time'] = wait_times.SACTMIN.combine_first(wait_times.SPOSTMIN)\n",
    "    \n",
    "    # Descriptor\n",
    "    wait_times['attraction_name'] = attraction_name\n",
    "    \n",
    "    # Output data\n",
    "    wait_times = wait_times[['attraction_name','date_id','month_of_year','hour_of_day','minute_of_day','year_of_calendar','wait_time']]\n",
    "    return wait_times"
   ]
  },
  {
   "cell_type": "code",
   "execution_count": 11,
   "metadata": {},
   "outputs": [],
   "source": [
    "# Download all datasets and save a local copy\n",
    "\n",
    "def save_touring_plans_data(path):\n",
    "    \"\"\"Function to download all wait time datasets from public .csvs made available\n",
    "    by TouringPlans (https://touringplans.com/walt-disney-world/crowd-calendar#DataSets).\n",
    "    Output is saved as a single consolidated .csv file.\n",
    "    \n",
    "    Args:\n",
    "        path : string\n",
    "            The path to save the .csv file to\n",
    "            \n",
    "    Returns:\n",
    "        None\n",
    "    \"\"\"\n",
    "    \n",
    "    # Dictionary of attraction names and .csv urls\n",
    "    url_lookup = {\n",
    "        'Alien Swirling Saucers': 'https://cdn.touringplans.com/datasets/alien_saucers.csv',\n",
    "        'Avatar Flight of Passage': 'https://cdn.touringplans.com/datasets/flight_of_passage.csv',\n",
    "        'DINOSAUR': 'https://cdn.touringplans.com/datasets/dinosaur.csv',\n",
    "        'Expedition Everest': 'https://cdn.touringplans.com/datasets/expedition_everest.csv',\n",
    "        'Kilimanjaro Safaris': 'https://cdn.touringplans.com/datasets/kilimanjaro_safaris.csv',\n",
    "        'Navi River Journey': 'https://cdn.touringplans.com/datasets/navi_river.csv',\n",
    "        'Pirates of the Caribbean': 'https://cdn.touringplans.com/datasets/pirates_of_caribbean.csv',\n",
    "        'Rock n Roller Coaster': 'https://cdn.touringplans.com/datasets/rock_n_rollercoaster.csv',\n",
    "        'Seven Dwarfs Mine Train': 'https://cdn.touringplans.com/datasets/7_dwarfs_train.csv',\n",
    "        'Slinky Dog Dash': 'https://cdn.touringplans.com/datasets/slinky_dog.csv',\n",
    "        'Soarin': 'https://cdn.touringplans.com/datasets/soarin.csv',\n",
    "        'Spaceship Earth': 'https://cdn.touringplans.com/datasets/spaceship_earth.csv',\n",
    "        'Splash Mountain': 'https://cdn.touringplans.com/datasets/splash_mountain.csv',\n",
    "        'Toy Story Mania': 'https://cdn.touringplans.com/datasets/toy_story_mania.csv'     \n",
    "    }\n",
    "    \n",
    "    # Set up output dataframe\n",
    "    out_df = pd.DataFrame()\n",
    "    \n",
    "    # Iterate through dictionary\n",
    "    for attraction_name, url in url_lookup.items():\n",
    "        context_df = fetch_wait_times(url=url, attraction_name=attraction_name)\n",
    "        out_df = pd.concat([out_df,context_df]).reset_index(drop=True)\n",
    "        \n",
    "    # Get the average wait time for each hour of the day where data is avaliable,\n",
    "    # remove 'null' times valued at -999\n",
    "    out_df = out_df[out_df.wait_time!=-999].reset_index(drop=True)\n",
    "        \n",
    "    # Save the data as .csv\n",
    "    return out_df"
   ]
  }
 ],
 "metadata": {
  "kernelspec": {
   "display_name": "Python 3",
   "language": "python",
   "name": "python3"
  },
  "language_info": {
   "codemirror_mode": {
    "name": "ipython",
    "version": 3
   },
   "file_extension": ".py",
   "mimetype": "text/x-python",
   "name": "python",
   "nbconvert_exporter": "python",
   "pygments_lexer": "ipython3",
   "version": "3.8.3"
  }
 },
 "nbformat": 4,
 "nbformat_minor": 2
}
